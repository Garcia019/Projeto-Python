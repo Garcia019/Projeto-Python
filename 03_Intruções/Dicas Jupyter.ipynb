{
 "cells": [
  {
   "cell_type": "markdown",
   "id": "663dd150-7aab-45f0-be3b-67bed6b8316b",
   "metadata": {},
   "source": [
    "## Atalhos, Manual de Instruções, Uso Jupyter para Registro e Estudo\n",
    "\n",
    "***S4 E24***\n",
    "\n",
    "o notebook jupyter é basicamente uma interface que pode ser utilizada para rodas códigos python e comentar sobre, uma forma amais organizada de manter texto e código no mesmo lugar com foco principal em estudo.\n",
    "\n",
    "Esse notebook tem como objetivo mostrar como funciona o notebook jupyer como inicar ele e os atalhos principais para uma boa utilização da plantaforma.\n",
    "\n",
    "1. Primeiro para iniciar o jupyter realizamos a abertura da pasta do projeto ou navegamos até ela utilizando o POWER SHELL, com comando como cd, dir, cls, cd.. entre outros,\n",
    "   \n",
    "2. Após navegar até a pasta utilizamos o comando da biblioteca interna da jupyter, \"Jupyter notebook\", o qual abre uma aba no navegador com o servidor da jupyter interno aos dados daquela pasta\n",
    "\n",
    "O notebook jupyter é divido entre duas entradas uma entrada para code python e uma segunda entrada para MARKDOWN com obejetivo de realizar comentários, explicar matérias entre outros detalhes, linguagem de marcação livre e intuitiva.\n",
    "\n",
    "***Agora alguns atalhos para o notebook jupyter:***\n",
    "\n",
    "**CTRL + ENTER** - Executa o código da linha digitado e gera o resultado na tela da última expressão\n",
    "\n",
    "**ALT + ENTER** - Executa o código e ja cria uma nova linha pra continuar o trabalho\n",
    "\n",
    "**ESC** - Alterna do modo comando para o modo editor de texto(markdown, código python)\n",
    "\n",
    "***No modo comando \"ESC\" estão disponíveis algumas funções:***\n",
    "\n",
    "**SHIFT + L** - Deixa visível a numeração das linhas na lateral o que facilita a programação\n",
    "\n",
    "**D + D** - Excluí a nota selecionada no momento\n",
    "\n",
    "**B** - Adiciona mais uma nota a seguir\n",
    "\n",
    "**ENTER** - Inicia a edição da nota selecionada com o cursor\n",
    "\n",
    "**A** - Adiciona uma nota na anterior a selecionada\n",
    "\n",
    "**1** - Alterna entre as duas opções do modo editor MARKDOWN OU CÓDIGO PYTHON\n",
    "\n"
   ]
  }
 ],
 "metadata": {
  "kernelspec": {
   "display_name": "Python 3 (ipykernel)",
   "language": "python",
   "name": "python3"
  },
  "language_info": {
   "codemirror_mode": {
    "name": "ipython",
    "version": 3
   },
   "file_extension": ".py",
   "mimetype": "text/x-python",
   "name": "python",
   "nbconvert_exporter": "python",
   "pygments_lexer": "ipython3",
   "version": "3.11.2"
  }
 },
 "nbformat": 4,
 "nbformat_minor": 5
}
