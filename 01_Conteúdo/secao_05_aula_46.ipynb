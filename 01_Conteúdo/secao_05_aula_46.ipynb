{
 "cells": [
  {
   "cell_type": "markdown",
   "id": "8661c28b-3244-41cc-9b02-4b81cfdae0e8",
   "metadata": {},
   "source": [
    "## String #01\n",
    "\n",
    "***S05 E46***\n",
    "\n",
    "Aprender um pouco mais sobre as funcionalidades de String sendo um tipo com muitas funcionalidades"
   ]
  },
  {
   "cell_type": "code",
   "execution_count": 13,
   "id": "83c965bb-9dba-4823-9c04-9a2c00425c0a",
   "metadata": {},
   "outputs": [
    {
     "name": "stdout",
     "output_type": "stream",
     "text": [
      "Texto com múltiplas\n",
      "... linhas, usando aspas triplas\n"
     ]
    }
   ],
   "source": [
    "dir(str)\n",
    "nome = \"Saulo Pedro\"\n",
    "nome\n",
    "nome[0]\n",
    "#nome[0] = \"P\" gera erro pois e impossível mudar a string, ela é imutável, voce apenas consegue alterar o valor da variável mas a string não\n",
    "\n",
    "#'marca d'água' problemaso com esse tipo de escrita devido a delimitação das aspas\n",
    "#para corrigir esse problemas podemos utilizar aspas duplas \"\" para delimitar a string ou utilizar o recurso de barra inversa \\\n",
    "\"Dias D'Avila\" == 'Dias D\\'Avila'\n",
    "texto = \"Texto entre aspostrófos pode ter 'aspas'\"\n",
    "\n",
    "doc = \"\"\"Texto com múltiplas\n",
    "... linhas, usando aspas triplas\"\"\"\n",
    "print(doc)\n",
    "# 'Texto com múltiplas\\n... linhas, usando aspas triplas'"
   ]
  }
 ],
 "metadata": {
  "kernelspec": {
   "display_name": "Python 3 (ipykernel)",
   "language": "python",
   "name": "python3"
  },
  "language_info": {
   "codemirror_mode": {
    "name": "ipython",
    "version": 3
   },
   "file_extension": ".py",
   "mimetype": "text/x-python",
   "name": "python",
   "nbconvert_exporter": "python",
   "pygments_lexer": "ipython3",
   "version": "3.11.2"
  }
 },
 "nbformat": 4,
 "nbformat_minor": 5
}
