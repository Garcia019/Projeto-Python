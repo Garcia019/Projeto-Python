{
 "cells": [
  {
   "cell_type": "markdown",
   "id": "98080e8b-1e46-4057-98cb-e84d4c5d7e9a",
   "metadata": {},
   "source": [
    "## Operadores Relacionais\n",
    "***S5 A33***\n",
    "\n",
    "Operadores que serevem para comparar valores e aprimorar a logica de programacao, não existe estritamente igual em python ele ja compara estritamente utilizando =="
   ]
  },
  {
   "cell_type": "code",
   "execution_count": null,
   "id": "6cb9414b-e831-4365-8124-0ee8dd670e20",
   "metadata": {},
   "outputs": [],
   "source": [
    "print(3 > 4) # x > (é maior que) y?\n",
    "print(4 >= 3) # x >= (é maior ou igual que) y?\n",
    "print(1 < 2) # x < (é menor que) y ?\n",
    "print(3 <= 1) # x <= (é menor ou igual que) y? \n",
    "print(3 != 2) # x != (é diferente que) y?\n",
    "print(3 == 3) # 3 == (é igual que) y?\n",
    "print(2 == \"2\") # isso é False"
   ]
  }
 ],
 "metadata": {
  "kernelspec": {
   "display_name": "Python 3 (ipykernel)",
   "language": "python",
   "name": "python3"
  },
  "language_info": {
   "codemirror_mode": {
    "name": "ipython",
    "version": 3
   },
   "file_extension": ".py",
   "mimetype": "text/x-python",
   "name": "python",
   "nbconvert_exporter": "python",
   "pygments_lexer": "ipython3",
   "version": "3.11.2"
  }
 },
 "nbformat": 4,
 "nbformat_minor": 5
}
