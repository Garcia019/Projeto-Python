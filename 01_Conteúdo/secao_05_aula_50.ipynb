{
 "cells": [
  {
   "cell_type": "markdown",
   "id": "89d856a3-e387-461a-baae-cfc0ece48a9a",
   "metadata": {},
   "source": [
    "## Lista #01\n",
    "\n",
    "***S05 E50***\n",
    "\n",
    "Lista é o semelhante de array em js, com algumas características como ele pode ser mudado, mutável, e pode ter diversos dados de tipos diferente heterogenia e dinamica, cresce indefinidamente."
   ]
  },
  {
   "cell_type": "code",
   "execution_count": 17,
   "id": "5aea0660-6c95-4643-bf91-7dd000fc48f9",
   "metadata": {},
   "outputs": [
    {
     "data": {
      "text/plain": [
       "['Bia', 'Ana', 1]"
      ]
     },
     "execution_count": 17,
     "metadata": {},
     "output_type": "execute_result"
    }
   ],
   "source": [
    "lista = []\n",
    "type(lista)\n",
    "dir(lista)\n",
    "# help(list)\n",
    "\n",
    "len(lista)\n",
    "lista.append(1) # adiciona itens a lista\n",
    "lista.append(5)\n",
    "lista.append([1, 2, 3])\n",
    "lista\n",
    "len(lista)\n",
    "\n",
    "nova_lista = [1, 5, \"Ana\", \"Bia\"] # cria uma lista ja com parametros\n",
    "nova_lista\n",
    "nova_lista.remove(5) # remove o item 5 da lista não o indice 5\n",
    "nova_lista\n",
    "nova_lista.reverse() # reverte a lista\n",
    "nova_lista\n",
    "\n",
    "# todos esses comandos alteram a lista original, em string ela nunca é alterada (imutável), porem as listas sao mutaveis e todos eles alteram"
   ]
  }
 ],
 "metadata": {
  "kernelspec": {
   "display_name": "Python 3 (ipykernel)",
   "language": "python",
   "name": "python3"
  },
  "language_info": {
   "codemirror_mode": {
    "name": "ipython",
    "version": 3
   },
   "file_extension": ".py",
   "mimetype": "text/x-python",
   "name": "python",
   "nbconvert_exporter": "python",
   "pygments_lexer": "ipython3",
   "version": "3.11.2"
  }
 },
 "nbformat": 4,
 "nbformat_minor": 5
}
