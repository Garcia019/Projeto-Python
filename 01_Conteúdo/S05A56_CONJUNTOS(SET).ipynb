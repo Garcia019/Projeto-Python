{
 "cells": [
  {
   "cell_type": "markdown",
   "id": "748a26d0-78e7-4004-a35c-a7dce45ab8cf",
   "metadata": {},
   "source": [
    "## Conjuntos (set em ingles)\n",
    "\n",
    "***S05 A56***\n",
    "\n",
    "Vamos trabalhar com conjunto que são limitado por chaves {} assim como o dicionario, conjunto não garante a ordem de inserção, ele não é indexado não consegue acionar pelo indice, nao aceitam repeticao ao iserir um valor igual no conjunto ele e ignorado e não é anexado. Usado para as velhas operações de conjunto como união interceção, sub-conjunto, diferença entre conjunto e muito mais"
   ]
  },
  {
   "cell_type": "code",
   "execution_count": 29,
   "id": "208eb76f-a5d9-4bc3-b9d5-50ac514f166f",
   "metadata": {},
   "outputs": [
    {
     "name": "stdout",
     "output_type": "stream",
     "text": [
      "True True\n"
     ]
    },
    {
     "data": {
      "text/plain": [
       "{1, 3}"
      ]
     },
     "execution_count": 29,
     "metadata": {},
     "output_type": "execute_result"
    }
   ],
   "source": [
    "a = {1,2,3}\n",
    "type(a)\n",
    "# a[0] error object set(conjunto) não é indexavel nao sei indice\n",
    "a = set(\"cod3r\") # não tem ordenação das letras ele cria um conjunt(set) a com as letras da string mas não existe cordenação\n",
    "a = set(\"coddddddddddd3r\") # criando um conjunto(set) com letras repetidas da string elas serão ignoradas pois ja existe 1 unidade das letra repetidas\n",
    "a\n",
    "print(\"3\" in a, 4 not in a) # seguem as formas de afirmação\n",
    "{1, 2, 3} == {3, 2, 1, 3} # verdeira pois todos os elementos estão nas dois conjuntos e em sua forma final ele irá remover todos os item repetidos\n",
    "\n",
    "# operações\n",
    "\n",
    "c1 = {1, 2}\n",
    "c2 = {2, 3}\n",
    "c1.union(c2) #faz a união entre dois conjuntos no caso oq ja remove a duplicidade do item \"2\" do resultado final, gera um terceiro conjunto sem alterar\n",
    "c1.intersection(c2) # faz a interseção com o conjunto 1 e conjunto 2 retrorna os numeros, vazio se nao tiver, nao altera os conjuntos iniciais\n",
    "c1.update(c2) # atualizando o c1 com o c2 o que seria a uniao dos conjuntos, alterando o conjunto 1\n",
    "c1\n",
    "\n",
    "c2 <= c1 # verificar se um e subconjunto de outro, nesse caso le-se c2 é um subconjunto de c1, True por conta do update\n",
    "c2 >= c1# verificando ao contratio para saber o resultado e o mesmo é c1, False\n",
    "\n",
    "{1, 2, 3} - {2} # diferenca entre conjuntos resulta em {1, 3}\n",
    "# {1, 2, 3} + {2} error conjuntos nao suportam o somatório e sim a função .union()\n",
    "c1 - c2 # diferenca entre conjuntos resulta em {1}\n",
    "c1 -= {2} # diferenca atribuitiva, ou atribuicao subntrativa ele remove o item e atualiza a c1 com os valores menos o elemento retirado\n",
    "c1"
   ]
  }
 ],
 "metadata": {
  "kernelspec": {
   "display_name": "Python 3 (ipykernel)",
   "language": "python",
   "name": "python3"
  },
  "language_info": {
   "codemirror_mode": {
    "name": "ipython",
    "version": 3
   },
   "file_extension": ".py",
   "mimetype": "text/x-python",
   "name": "python",
   "nbconvert_exporter": "python",
   "pygments_lexer": "ipython3",
   "version": "3.11.2"
  }
 },
 "nbformat": 4,
 "nbformat_minor": 5
}
