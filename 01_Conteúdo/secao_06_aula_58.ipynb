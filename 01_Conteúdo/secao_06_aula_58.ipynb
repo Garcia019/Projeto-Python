{
 "cells": [
  {
   "cell_type": "markdown",
   "id": "30b06913-576f-44dd-9e27-64345c63695b",
   "metadata": {},
   "source": [
    "## Desafio Versão Inicial\n",
    "\n",
    "***S06 E58***\n",
    "\n",
    "Nessa aula foi proposta pelo professor realizar um desafio de criação de um programa que cálcula a área de uma circunferência, porém através das próximas aulas ir versionando esse código adicionado uma nova funcionalidade explicando em cada aula o significado e o motivo de utilização daquela funcionalidade, para cumprir o desafio realizei o seguinte código"
   ]
  },
  {
   "cell_type": "code",
   "execution_count": 1,
   "id": "368d7f66-4716-49ff-b6ad-abbecba010ba",
   "metadata": {},
   "outputs": [
    {
     "name": "stdout",
     "output_type": "stream",
     "text": [
      "7853.974999999999\n"
     ]
    }
   ],
   "source": [
    "# VERSÃO ÁREA DA CIRCUNFERÊNCIA V1.0\n",
    "\n",
    "raio = 50\n",
    "pi = 3.14159\n",
    "area_circunferencia = pi * raio ** 2\n",
    "print(area_circunferencia)"
   ]
  }
 ],
 "metadata": {
  "kernelspec": {
   "display_name": "Python 3 (ipykernel)",
   "language": "python",
   "name": "python3"
  },
  "language_info": {
   "codemirror_mode": {
    "name": "ipython",
    "version": 3
   },
   "file_extension": ".py",
   "mimetype": "text/x-python",
   "name": "python",
   "nbconvert_exporter": "python",
   "pygments_lexer": "ipython3",
   "version": "3.11.2"
  }
 },
 "nbformat": 4,
 "nbformat_minor": 5
}
