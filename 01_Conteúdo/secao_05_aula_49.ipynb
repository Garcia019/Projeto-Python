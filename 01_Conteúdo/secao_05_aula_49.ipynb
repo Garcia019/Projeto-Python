{
 "cells": [
  {
   "cell_type": "markdown",
   "id": "42268f72-919a-4f81-8f0e-2419133c5f01",
   "metadata": {},
   "source": [
    "## String #04\n",
    "\n",
    "***S05 E48***\n",
    "\n",
    "Continuando com funções e exemplos de string em python, introduzindo magic methods and operator overloading"
   ]
  },
  {
   "cell_type": "code",
   "execution_count": 16,
   "id": "c7d6b580-f754-4d7f-b338-3853e9644cf3",
   "metadata": {},
   "outputs": [
    {
     "data": {
      "text/plain": [
       "True"
      ]
     },
     "execution_count": 16,
     "metadata": {},
     "output_type": "execute_result"
    }
   ],
   "source": [
    "a = \"123\"\n",
    "b = \"de Oliveira 4\"\n",
    "\n",
    "# a + b\n",
    "# a.__add__(b)\n",
    "# str.__add__(a, b)\n",
    "\n",
    "# Operadores \"+\" representam funcões ou métodos inteiros em python como nesse caso o priomeiro é correspondente aos outro dois exemplos\n",
    "\n",
    "dir(str)\n",
    "len(a)\n",
    "a.__len__()\n",
    "\"1\" in a\n",
    "a.__contains__(\"1\")\n",
    "\n",
    "# Muitas funcionalidade dentro dos metodos são simplificadas em uso por alguns alterações na sintaxe"
   ]
  },
  {
   "cell_type": "code",
   "execution_count": null,
   "id": "4aca7860-3b82-4098-84b4-4ce1986b41f9",
   "metadata": {},
   "outputs": [],
   "source": []
  }
 ],
 "metadata": {
  "kernelspec": {
   "display_name": "Python 3 (ipykernel)",
   "language": "python",
   "name": "python3"
  },
  "language_info": {
   "codemirror_mode": {
    "name": "ipython",
    "version": 3
   },
   "file_extension": ".py",
   "mimetype": "text/x-python",
   "name": "python",
   "nbconvert_exporter": "python",
   "pygments_lexer": "ipython3",
   "version": "3.11.2"
  }
 },
 "nbformat": 4,
 "nbformat_minor": 5
}
