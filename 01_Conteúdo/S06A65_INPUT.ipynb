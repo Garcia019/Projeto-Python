{
 "cells": [
  {
   "cell_type": "markdown",
   "id": "fc759556-9a53-4bec-8478-9ed33fa9faa3",
   "metadata": {},
   "source": [
    "## Obtendo Dados do Usuário\n",
    "\n",
    "***S06 A65***\n",
    "\n",
    "Forma de extrair dados do usuário dentro do python utilizando a funcionalidade input, caso seja necessário utilizar os dados em calcula não equecer de converter o input para float ou int dependendo da sua necessidade"
   ]
  },
  {
   "cell_type": "code",
   "execution_count": 5,
   "id": "eecdb0ed-bcc4-4bbe-910c-b4a94b47f4ab",
   "metadata": {},
   "outputs": [
    {
     "name": "stdin",
     "output_type": "stream",
     "text": [
      "Digite o raio da circunferência que quer calcular: 182\n"
     ]
    },
    {
     "name": "stdout",
     "output_type": "stream",
     "text": [
      "Á área da circunferência é de 104062.1150575083\n"
     ]
    }
   ],
   "source": [
    "# VERSÃO ÁREA DA CIRCUNFERÊNCIA V4.0\n",
    "#! python\n",
    "# import math\n",
    "from math import pi # importa apenas a funcionalidade pi do módulo math ficando apenas disponível o pi\n",
    "\n",
    "# print(dir()) # retirando todos os componentes do ambiente global\n",
    "\n",
    "raio = float(input(\"Digite o raio da circunferência que quer calcular:\"))\n",
    "area_circunferencia = pi * raio ** 2\n",
    "print(f\"Á área da circunferência é de {area_circunferencia:.2f}\")\n"
   ]
  }
 ],
 "metadata": {
  "kernelspec": {
   "display_name": "Python 3 (ipykernel)",
   "language": "python",
   "name": "python3"
  },
  "language_info": {
   "codemirror_mode": {
    "name": "ipython",
    "version": 3
   },
   "file_extension": ".py",
   "mimetype": "text/x-python",
   "name": "python",
   "nbconvert_exporter": "python",
   "pygments_lexer": "ipython3",
   "version": "3.11.2"
  }
 },
 "nbformat": 4,
 "nbformat_minor": 5
}
