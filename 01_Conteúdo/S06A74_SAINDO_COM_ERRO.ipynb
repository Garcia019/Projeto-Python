{
 "cells": [
  {
   "cell_type": "markdown",
   "id": "b73582b0-0e0b-4078-a1fc-6e692e78ed9f",
   "metadata": {},
   "source": [
    "## Saindo com Erro\n",
    "***S06 A74***\n",
    "\n",
    "Nessa aula vamos adicionar uma funcionalidade saindo do modulo/script/codigo com um erro, geralmente quando um script é finalizado de forma normal sem ocrrer nenhum erro ele retorna um 0 que é um código retornado ao sistema operacional, porem podemos no momento que encontra o erro pedir que o script seja finalizado. Nesse caso conseguimos utilizar a função sys.exit(1) que no momento que ela é chama a mesma sai da execução do programa no terminal retornando 1 para indicar que o script foi encerrado com erro.\n",
    "\n",
    "Conseguimos importar um modulo de Erros em python através do ***import errno*** que importa alguns erros que poder ser utilizados durante o desenvolvimento do codigo, que geralmente são do sistema operacional\n",
    "\n",
    "Nota: A partir de algumas melhorias relaziadas no código nas últimas 3 aulas criei o arquivo s06_desafio_circulo.py pois algumas funcionalidades de melhoria não funcionavam aqui no jupyter como, por exemplo ***sys.argv*** que da erro ao executar linha 18, por isso coloquei comentarios para evitar os erros e continuar a registrar as aulas pelo jupyter"
   ]
  },
  {
   "cell_type": "code",
   "execution_count": null,
   "id": "dbae1fe0-3e3f-44c6-928f-7c661b5da10f",
   "metadata": {},
   "outputs": [],
   "source": [
    "# VERSÃO ÁREA DA CIRCUNFERÊNCIA V12.0\n",
    "# Utilizar o prefixo python antes de executar pelo navegador\n",
    "from math import pi\n",
    "import sys\n",
    "import errno\n",
    "\n",
    "\n",
    "def circulo(raio):\n",
    "    return pi * float(raio) ** 2\n",
    "\n",
    "\n",
    "def help():\n",
    "    print(\"É necessário informar o raio do círculo.\")\n",
    "    print(f\"Sintaxe: {sys.argv[0][2:]} <raio>\")\n",
    "\n",
    "\n",
    "if __name__ == \"__main__\":\n",
    "    if len(sys.argv) < 2:\n",
    "        help()\n",
    "        sys.exit(1)\n",
    "    # else:\n",
    "    raio = sys.argv[1]\n",
    "    # area = circulo(raio)\n",
    "    # print(f\"Á área da circunferência é de {area:.2f}\")\n"
   ]
  }
 ],
 "metadata": {
  "kernelspec": {
   "display_name": "Python 3 (ipykernel)",
   "language": "python",
   "name": "python3"
  },
  "language_info": {
   "codemirror_mode": {
    "name": "ipython",
    "version": 3
   },
   "file_extension": ".py",
   "mimetype": "text/x-python",
   "name": "python",
   "nbconvert_exporter": "python",
   "pygments_lexer": "ipython3",
   "version": "3.11.2"
  }
 },
 "nbformat": 4,
 "nbformat_minor": 5
}
