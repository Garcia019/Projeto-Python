{
 "cells": [
  {
   "cell_type": "markdown",
   "id": "23ee84a7-b8aa-4743-8d80-d25747a3c1a4",
   "metadata": {},
   "source": [
    "## Encoding\n",
    "\n",
    "***S06 E60***\n",
    "\n",
    "Importância sobre o encoding padrão de arquivo, sistema de codificação de um arquivo, situações que é importante definir um encoding, caracteres que não são ASCII talvez nao sejam, interpretados devido ao encoding sendo utilizado, utilizando um comentário em python conseguimos definir o encoding dependendo do tipo de versão utilizando o seguite comentário, lembrando que o UTF-8 é codificação padrão utilizada pelo python"
   ]
  },
  {
   "cell_type": "code",
   "execution_count": null,
   "id": "6e0f4278-8dc4-46f1-bc6e-b983055f1854",
   "metadata": {},
   "outputs": [],
   "source": [
    "# -*- coding: utf -8 -*-"
   ]
  }
 ],
 "metadata": {
  "kernelspec": {
   "display_name": "Python 3 (ipykernel)",
   "language": "python",
   "name": "python3"
  },
  "language_info": {
   "codemirror_mode": {
    "name": "ipython",
    "version": 3
   },
   "file_extension": ".py",
   "mimetype": "text/x-python",
   "name": "python",
   "nbconvert_exporter": "python",
   "pygments_lexer": "ipython3",
   "version": "3.11.2"
  }
 },
 "nbformat": 4,
 "nbformat_minor": 5
}
