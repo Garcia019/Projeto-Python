{
 "cells": [
  {
   "cell_type": "markdown",
   "id": "75a3098f-68d4-480a-bb4d-89e57e4ee584",
   "metadata": {},
   "source": [
    "## String #03\n",
    "\n",
    "***S05 A48***\n",
    "\n",
    "Dando continuidade aos estudo sobre python, nesse caso funções ou método de manipulação do python"
   ]
  },
  {
   "cell_type": "code",
   "execution_count": 6,
   "id": "1acf28be-e54e-4da0-a503-f82996f924b4",
   "metadata": {},
   "outputs": [
    {
     "name": "stdout",
     "output_type": "stream",
     "text": [
      "Help on method_descriptor:\n",
      "\n",
      "center(self, width, fillchar=' ', /)\n",
      "    Return a centered string of length width.\n",
      "    \n",
      "    Padding is done using the specified fill character (default is a space).\n",
      "\n"
     ]
    }
   ],
   "source": [
    "frase = \"Python é uma linguagem excelente\"\n",
    "\"py\" in frase # (False) letras maisculas e minisculas são consideradas\n",
    "\"ing\" in frase # (True) ele acha essa string dentro da string frase\n",
    "\n",
    "len(frase) # Determina o tamanho de caracteres dentro da frase\n",
    "frase.lower() # Transforma toda a frase em minuscula\n",
    "frase.upper() # Transforma toda a frase em maiuscula\n",
    "frase.split() # Quebra a frase nos espaços em branco como não foi informado nada no parametro, o espaço em branco é removido e cria \n",
    "# Uma lista com a sobra da string\n",
    "\n",
    "frase.split(\"e\") # Quebra a frase nos caractere \"e\" removendo ele e criando uma lista com essas quebras\n",
    "\n",
    "# dir(str)\n",
    "# help(str.center)"
   ]
  }
 ],
 "metadata": {
  "kernelspec": {
   "display_name": "Python 3 (ipykernel)",
   "language": "python",
   "name": "python3"
  },
  "language_info": {
   "codemirror_mode": {
    "name": "ipython",
    "version": 3
   },
   "file_extension": ".py",
   "mimetype": "text/x-python",
   "name": "python",
   "nbconvert_exporter": "python",
   "pygments_lexer": "ipython3",
   "version": "3.11.2"
  }
 },
 "nbformat": 4,
 "nbformat_minor": 5
}
