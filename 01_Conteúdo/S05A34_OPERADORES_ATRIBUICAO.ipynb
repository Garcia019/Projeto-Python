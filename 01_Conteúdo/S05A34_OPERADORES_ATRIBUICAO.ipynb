{
 "cells": [
  {
   "cell_type": "markdown",
   "id": "fc8d4b5f-d755-4edf-b7da-09420ee7d7eb",
   "metadata": {},
   "source": [
    "## *Operadores de Atribuição*\n",
    "***S5 A34***\n",
    "\n",
    "\"=\" significa atribuição, operadores com atribuição é conjunto do operador de atribuição mais operadores aritméticos"
   ]
  },
  {
   "cell_type": "code",
   "execution_count": null,
   "id": "f3e01c5d-c26d-42dc-979a-30f64714d115",
   "metadata": {},
   "outputs": [],
   "source": [
    "a = 3 # significa atribução de um valor a uma variável, nesse caso a variável a foi atribuído o valor 3\n",
    "a = a + 7 # substitui o valor da variável, nesse caso por ele mesmo mais 7\n",
    "print(a)\n",
    "\n",
    "a += 5 # acrescenta ao valor de a mais 5 unidades, atribuição aditiva (a = a + 5)\n",
    "print(a) \n",
    "\n",
    "a -= 3 # reduz ao valor de mais 3 unidades, atribuição subtrativa (a = a - 3)\n",
    "print(a)\n",
    "\n",
    "a *= 2 # multiplica o valor de a em 2 unidades, atribuição multiplicativa (a = a * 2)\n",
    "print(a)\n",
    "\n",
    "a /= 4 # divide o valor de a em 2 unidades, atribuição divisiva (a = a / 2)\n",
    "print(a)\n",
    "\n",
    "a %= 4 # divide o valor de a em 4 unidades e se apega ao resto ou modulo, atribuição modular (a = a % 2)\n",
    "print(a)\n",
    "\n",
    "a **= 8 # exponencia o valor de a em 8 unidades, atribuição exponenciativa (a = a ** 8)\n",
    "print(a)\n",
    "\n",
    "a //= 127 # divisão no qual o resultado é inteiro, (a = a // 256)  \n",
    "print(a)"
   ]
  }
 ],
 "metadata": {
  "kernelspec": {
   "display_name": "Python 3 (ipykernel)",
   "language": "python",
   "name": "python3"
  },
  "language_info": {
   "codemirror_mode": {
    "name": "ipython",
    "version": 3
   },
   "file_extension": ".py",
   "mimetype": "text/x-python",
   "name": "python",
   "nbconvert_exporter": "python",
   "pygments_lexer": "ipython3",
   "version": "3.11.2"
  }
 },
 "nbformat": 4,
 "nbformat_minor": 5
}
