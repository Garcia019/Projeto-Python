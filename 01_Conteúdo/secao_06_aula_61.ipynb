{
 "cells": [
  {
   "cell_type": "markdown",
   "id": "8a97e5dc-21d1-4484-81fd-993d1e7d5bde",
   "metadata": {},
   "source": [
    "## Shebang no Ambiente Windowns\n",
    "\n",
    "***S06 E61***\n",
    "\n",
    "A aula 61 não é extamente um aula e sim um aviso sobre o uso do shebang no ambiente Windowns vou deixar aqui o aviso só como registro\n",
    "\n",
    "Na próxima aula será explicado o conceito do Shebang, porém o que está explicado funciona apenas nos ambientes Linux/MacOS. A documentação do Python explica que não há suporte oficial para Shebang no Windows. Para proceder corretamente nas próximas aulas sem problemas utilizando Windows basta substituir a linha do shebang utilizada pelo professor pelo seguinte código: #! python\n",
    "\n",
    "Dessa forma vai funcionar normalmente no Windows da mesma forma que funciona nos outros ambientes.\n",
    "Caso queiram ler mais a respeito, está tudo dentro da documentação do Python no seguinte link: https://docs.python.org/3/using/windows.html\n",
    "\n",
    "Bons estudos!"
   ]
  }
 ],
 "metadata": {
  "kernelspec": {
   "display_name": "Python 3 (ipykernel)",
   "language": "python",
   "name": "python3"
  },
  "language_info": {
   "codemirror_mode": {
    "name": "ipython",
    "version": 3
   },
   "file_extension": ".py",
   "mimetype": "text/x-python",
   "name": "python",
   "nbconvert_exporter": "python",
   "pygments_lexer": "ipython3",
   "version": "3.11.2"
  }
 },
 "nbformat": 4,
 "nbformat_minor": 5
}
