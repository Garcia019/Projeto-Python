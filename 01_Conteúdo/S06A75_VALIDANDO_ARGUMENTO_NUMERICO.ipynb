{
 "cells": [
  {
   "cell_type": "markdown",
   "id": "a8ba36b5-9bda-4f14-af0d-7a7d323f4d03",
   "metadata": {},
   "source": [
    "## Validando Argumento Numérico\n",
    "\n",
    "***S06 A75***\n",
    "\n",
    "Nessa damos continuidade as melhorias, e vamos verificar se o número passado durante a abertura do programa é numérico ou não, porem antes de executar essa atualização iremos realizar alguns exemplos em python com if, else e elif\n",
    "\n",
    "Nota: A partir de algumas melhorias relaziadas no código nas últimas 3 aulas criei o arquivo s06_desafio_circulo.py pois algumas funcionalidades de melhoria não funcionavam aqui no jupyter como, por exemplo ***sys.argv*** que da erro ao executar linha 18, por isso coloquei comentarios para evitar os erros e continuar a registrar as aulas pelo jupyter"
   ]
  },
  {
   "cell_type": "code",
   "execution_count": 4,
   "id": "e9053e8a-5bc6-4309-9057-acdb94d86704",
   "metadata": {},
   "outputs": [
    {
     "name": "stdout",
     "output_type": "stream",
     "text": [
      "Reprovado\n"
     ]
    }
   ],
   "source": [
    "# nota_aluno.py\n",
    "# Estruturas de Seleção\n",
    "# if, else, elif\n",
    "\n",
    "nota = 2.8\n",
    "\n",
    "if nota >= 9:\n",
    "    print(\"Quadro de Honra\")\n",
    "elif nota >= 7:\n",
    "    print(\"Aprovado\")\n",
    "elif nota >= 5:\n",
    "    print(\"Recuperação\")\n",
    "elif nota >= 3:\n",
    "    print(\"Recuperação + Trabalho\")\n",
    "else:\n",
    "    print(\"Reprovado\")\n",
    "\n"
   ]
  },
  {
   "cell_type": "markdown",
   "id": "d1c88bae-b9d9-4a9d-8a67-d280821d4593",
   "metadata": {},
   "source": [
    "Agora no caso estremos aplicando a estrtura dee seleção se baseando no elif para o nosso algoritmo atual nas condições de testar o tipo de dado fornecido pelo usuário"
   ]
  },
  {
   "cell_type": "code",
   "execution_count": 5,
   "id": "583b8a74-d4a4-4f97-8bbb-302f1e9b0ace",
   "metadata": {},
   "outputs": [
    {
     "name": "stdout",
     "output_type": "stream",
     "text": [
      "É necessário informar o raio do círculo.\n",
      "Sintaxe: \\Users\\mathe\\AppData\\Local\\Programs\\Python\\Python311\\Lib\\site-packages\\ipykernel_launcher.py <raio>\n",
      "O raio informado deve ser no formato numérico\n"
     ]
    },
    {
     "ename": "SystemExit",
     "evalue": "1",
     "output_type": "error",
     "traceback": [
      "An exception has occurred, use %tb to see the full traceback.\n",
      "\u001b[31mSystemExit\u001b[39m\u001b[31m:\u001b[39m 1\n"
     ]
    },
    {
     "name": "stderr",
     "output_type": "stream",
     "text": [
      "C:\\Users\\mathe\\AppData\\Local\\Programs\\Python\\Python311\\Lib\\site-packages\\IPython\\core\\interactiveshell.py:3675: UserWarning: To exit: use 'exit', 'quit', or Ctrl-D.\n",
      "  warn(\"To exit: use 'exit', 'quit', or Ctrl-D.\", stacklevel=1)\n"
     ]
    }
   ],
   "source": [
    "# VERSÃO ÁREA DA CIRCUNFERÊNCIA V13.0\n",
    "# Utilizar o prefixo python antes de executar pelo navegador\n",
    "from math import pi\n",
    "import sys\n",
    "import errno\n",
    "\n",
    "\n",
    "def circulo(raio):\n",
    "    return pi * float(raio) ** 2\n",
    "\n",
    "\n",
    "def help():\n",
    "    print(\"É necessário informar o raio do círculo.\")\n",
    "    print(f\"Sintaxe: {sys.argv[0][2:]} <raio>\")\n",
    "\n",
    "\n",
    "if __name__ == \"__main__\":\n",
    "    if len(sys.argv) < 2:\n",
    "        help()\n",
    "        sys.exit(errno.EPERM)\n",
    "    elif not sys.argv[1].isnumeric():\n",
    "        help()\n",
    "        print(\"O raio informado deve ser no formato numérico\")\n",
    "        sys.exit(errno.EINVAL)\n",
    "    raio = sys.argv[1]\n",
    "    area = circulo(raio)\n",
    "    print(f\"Á área da circunferência é de {area:.2f}\")\n"
   ]
  }
 ],
 "metadata": {
  "kernelspec": {
   "display_name": "Python 3 (ipykernel)",
   "language": "python",
   "name": "python3"
  },
  "language_info": {
   "codemirror_mode": {
    "name": "ipython",
    "version": 3
   },
   "file_extension": ".py",
   "mimetype": "text/x-python",
   "name": "python",
   "nbconvert_exporter": "python",
   "pygments_lexer": "ipython3",
   "version": "3.11.2"
  }
 },
 "nbformat": 4,
 "nbformat_minor": 5
}
