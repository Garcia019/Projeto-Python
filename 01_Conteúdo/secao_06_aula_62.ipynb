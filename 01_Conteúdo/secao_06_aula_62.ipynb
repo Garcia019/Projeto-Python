{
 "cells": [
  {
   "cell_type": "markdown",
   "id": "bfbd82b3-f1e4-464b-a500-3fed859288ea",
   "metadata": {},
   "source": [
    "## Executar Código Python no Terminal\n",
    "\n",
    "***S06 E61***\n",
    "\n",
    "A aula 61 não trata-se também de uma auila direta e sim sobre um aviso do uso do shebang e do código de execução do arquivo python no Terminal\n",
    "\n",
    "Fala galera! Beleza?\n",
    "\n",
    "Nas próximas aulas o professor irá executar um código no terminal com a seguinte sintaxe:\n",
    "\n",
    "./nomeDoArquivo.py\n",
    "\n",
    "No entanto, essa sintaxe não vai funcionar em todos os sistemas. Se for o seu caso, basta usar a seguinte sintaxe:\n",
    "\n",
    "python nomeDoArquivo.py\n",
    "\n",
    "Bons estudos!"
   ]
  }
 ],
 "metadata": {
  "kernelspec": {
   "display_name": "Python 3 (ipykernel)",
   "language": "python",
   "name": "python3"
  },
  "language_info": {
   "codemirror_mode": {
    "name": "ipython",
    "version": 3
   },
   "file_extension": ".py",
   "mimetype": "text/x-python",
   "name": "python",
   "nbconvert_exporter": "python",
   "pygments_lexer": "ipython3",
   "version": "3.11.2"
  }
 },
 "nbformat": 4,
 "nbformat_minor": 5
}
