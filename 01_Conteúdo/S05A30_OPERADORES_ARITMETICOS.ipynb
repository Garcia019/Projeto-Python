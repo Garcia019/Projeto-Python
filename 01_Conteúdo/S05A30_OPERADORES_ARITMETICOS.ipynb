{
 "cells": [
  {
   "cell_type": "markdown",
   "id": "4b160489-9153-4002-84d0-3e5e99e819ff",
   "metadata": {},
   "source": [
    "## Operadores Aritméticos\n",
    "***S5 A30***\n",
    "\n",
    "Estudando os operadores aritméticos de python e verificando a sintaxe de cada um neles na linguagem de programação. Todos os operadores aritméticos são considerados binário, ou seja, apenas dois operandos, existem operadores trinários, unários, operadores pré-fixadas e pós-fixadas entre outros, vamos "
   ]
  },
  {
   "cell_type": "code",
   "execution_count": null,
   "id": "0f2b2bc4-ac86-4c9f-aa99-aad01b795698",
   "metadata": {},
   "outputs": [],
   "source": [
    "print(2 + 3) # soma \n",
    "print(4 - 7) # subtração\n",
    "print(2 * 5.3) # multiplicação\n",
    "print(9.4 / 3) # divisão\n",
    "print(9.4 // 3) #divisão com resultado inteiro\n",
    "print(2 ** 8) # exponenciação\n",
    "print(10 % 3) # módulo e/ou resto da divisão\n",
    "\n",
    "a = 12\n",
    "b = a\n",
    "\n",
    "print(a + b)"
   ]
  }
 ],
 "metadata": {
  "kernelspec": {
   "display_name": "Python 3 (ipykernel)",
   "language": "python",
   "name": "python3"
  },
  "language_info": {
   "codemirror_mode": {
    "name": "ipython",
    "version": 3
   },
   "file_extension": ".py",
   "mimetype": "text/x-python",
   "name": "python",
   "nbconvert_exporter": "python",
   "pygments_lexer": "ipython3",
   "version": "3.11.2"
  }
 },
 "nbformat": 4,
 "nbformat_minor": 5
}
