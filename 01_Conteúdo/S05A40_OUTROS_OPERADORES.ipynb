{
 "cells": [
  {
   "cell_type": "markdown",
   "id": "ac5f02f7-1bed-4725-8aee-d8c1fbbb6438",
   "metadata": {},
   "source": [
    "## Mais Operadores (Membro / Identidade)\n",
    "***S5 A40***\n",
    "\n",
    "Operadores em python alguns tipos mais usados com \"in\" (pertencimento), is (identidade) iguais em valor de variável, variáveis definidas como lista apontam a lista em si para um espaço de memória mesmo que você crie uma lista inteira identica a anterior o espaço de memoria vai ser diferente logo o operando \"is\" retorna False(Falso), porém se você atribuir a primeira lista criada a outra variável você copiara o espaço na memoria da primeira lista sendo a mesma coisa, em variaveis para string e number ele analisa pelo valor que no caso nao representa um objeto na memoria e sim um valor "
   ]
  },
  {
   "cell_type": "code",
   "execution_count": null,
   "id": "a8889307-9183-46c3-b83d-cf7189347e50",
   "metadata": {},
   "outputs": [],
   "source": [
    "#Operador de Membro\n",
    "\n",
    "lista = [1,2,3, \"Ana\", \"Carla\"]\n",
    "2 in lista\n",
    "\"Ana\" not in lista\n",
    "\n",
    "#Operador de Identidade\n",
    "\n",
    "x = 3\n",
    "y = x\n",
    "z = 3\n",
    "x is y\n",
    "y is z\n",
    "x is not z\n",
    "# x not is z - > não é válido pela sintaxe, o python tem sutilezas e preocupação seguir regras do ingles \n",
    "\n",
    "lista_a = [1,2,3]\n",
    "lista_b = lista_a\n",
    "lista_c = [1,2,3]\n",
    "print(lista_a is lista_b)\n",
    "print(lista_b is lista_c)\n",
    "print(lista_c is not lista_a)"
   ]
  }
 ],
 "metadata": {
  "kernelspec": {
   "display_name": "Python 3 (ipykernel)",
   "language": "python",
   "name": "python3"
  },
  "language_info": {
   "codemirror_mode": {
    "name": "ipython",
    "version": 3
   },
   "file_extension": ".py",
   "mimetype": "text/x-python",
   "name": "python",
   "nbconvert_exporter": "python",
   "pygments_lexer": "ipython3",
   "version": "3.11.2"
  }
 },
 "nbformat": 4,
 "nbformat_minor": 5
}
