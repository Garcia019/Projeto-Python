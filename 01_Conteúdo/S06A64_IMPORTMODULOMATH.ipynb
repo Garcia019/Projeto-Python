{
 "cells": [
  {
   "cell_type": "markdown",
   "id": "27c61895-2224-4cf8-9f8e-a36978b748d9",
   "metadata": {},
   "source": [
    "## Importando Módulo Math\n",
    "\n",
    "***S06 A64***\n",
    "\n",
    "Essa aula tem como objetivo mostrar a necessidade de importar recursos de bibliotecas e libs que podem ser úteis no programa no algoritmo que geralmente não existem no ambiente global __builtins__ no caso do módulo Math que possui o número PI, sendo isso podemos utilizar da API do python para realizar diversor tipos de tarefas baseados na nossa necessidade sem precisar reinventar as formas de fazer aquilo."
   ]
  },
  {
   "cell_type": "code",
   "execution_count": 2,
   "id": "d3cbf6ac-4bc8-4143-a6d7-c544860f1985",
   "metadata": {},
   "outputs": [
    {
     "name": "stdout",
     "output_type": "stream",
     "text": [
      "Á área da circunferência é de 7853.98\n"
     ]
    }
   ],
   "source": [
    "# VERSÃO ÁREA DA CIRCUNFERÊNCIA V3.0\n",
    "#! python\n",
    "# import math\n",
    "from math import pi # importa apenas a funcionalidade pi do módulo math ficando apenas disponível o pi\n",
    "\n",
    "# print(dir()) # retirando todos os componentes do ambiente global\n",
    "\n",
    "raio = 50\n",
    "area_circunferencia = pi * raio ** 2\n",
    "print(f\"Á área da circunferência é de {area_circunferencia:.2f}\") # :.2f limita a variável area-circunferencia a dois números após a vírgula\n"
   ]
  }
 ],
 "metadata": {
  "kernelspec": {
   "display_name": "Python 3 (ipykernel)",
   "language": "python",
   "name": "python3"
  },
  "language_info": {
   "codemirror_mode": {
    "name": "ipython",
    "version": 3
   },
   "file_extension": ".py",
   "mimetype": "text/x-python",
   "name": "python",
   "nbconvert_exporter": "python",
   "pygments_lexer": "ipython3",
   "version": "3.11.2"
  }
 },
 "nbformat": 4,
 "nbformat_minor": 5
}
