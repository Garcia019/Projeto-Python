{
 "cells": [
  {
   "cell_type": "markdown",
   "id": "0bdc7157-9385-4ff8-a4b0-973babe6d1e9",
   "metadata": {},
   "source": [
    "## Tipos Básico\n",
    "***S5 A27***\n",
    "\n",
    "Tipos básicos de estrutura e/ou tipo de dados,  boolean, float(real), int(inteiro), string, lista, dicionario, nulo (auência de valor)"
   ]
  },
  {
   "cell_type": "code",
   "execution_count": 5,
   "id": "c49e29ff-7d6e-49eb-90f0-3326ff7c64fc",
   "metadata": {},
   "outputs": [
    {
     "name": "stdout",
     "output_type": "stream",
     "text": [
      "True\n",
      "False\n",
      "2.2\n",
      "Aqui eu falo na minha lingua!\n",
      "tb funciona.\n",
      "Você é muito muito muito legal!\n",
      "[1, 2, 3]\n",
      "{'nome': 'Pedro', 'idade': 22}\n"
     ]
    }
   ],
   "source": [
    "print(True)\n",
    "print(False)\n",
    "print(1.2 + 1)\n",
    "print(\"Aqui eu falo na minha lingua!\")\n",
    "print('tb funciona.')\n",
    "print(\"Você é \" + 3 * \"muito \" + \"legal!\")\n",
    "#print(3 + \"3\") -> ambiguidade\n",
    "print([1,2,3])\n",
    "print({\"nome\": \"Pedro\", \"idade\": 22})"
   ]
  }
 ],
 "metadata": {
  "kernelspec": {
   "display_name": "Python 3 (ipykernel)",
   "language": "python",
   "name": "python3"
  },
  "language_info": {
   "codemirror_mode": {
    "name": "ipython",
    "version": 3
   },
   "file_extension": ".py",
   "mimetype": "text/x-python",
   "name": "python",
   "nbconvert_exporter": "python",
   "pygments_lexer": "ipython3",
   "version": "3.11.2"
  }
 },
 "nbformat": 4,
 "nbformat_minor": 5
}
