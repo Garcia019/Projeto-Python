{
 "cells": [
  {
   "cell_type": "markdown",
   "id": "88e8aa10-7d6a-48ec-9e4f-d4ce411e6993",
   "metadata": {},
   "source": [
    "## Shebang\n",
    "\n",
    "***S06 E63***\n",
    "\n",
    "Shebang é uma forma de configurar o arquivo onde esta o seu codigo de forma que ele seja sempre executado pelo python independente de você definir isso ou não no terminal, utilizando o comentário #!/usr/local/bin/python você consegue executar o arquivo em python apenas digitando seu caminho no terminal, é utilizado com foco em linux e mac.\n",
    "\n",
    "É necessário mudar algums permissões de execução do arquivo dentro do sistema operacional para o dono do arquivo no sistema operacional.\n",
    "\n",
    "No windowns essa função não é suportada oficialmenteee como diz as intruções no site do python, então podemos apenas utilizar #! python\n"
   ]
  },
  {
   "cell_type": "code",
   "execution_count": 2,
   "id": "06030d7e-1973-4d00-85f3-010e64ff2cad",
   "metadata": {},
   "outputs": [
    {
     "name": "stdout",
     "output_type": "stream",
     "text": [
      "7853.974999999999\n"
     ]
    }
   ],
   "source": [
    "# VERSÃO ÁREA DA CIRCUNFERÊNCIA V2.0\n",
    "#! python\n",
    "raio = 50\n",
    "pi = 3.14159\n",
    "area_circunferencia = pi *raio ** 2\n",
    "print(area_circunferencia)\n"
   ]
  }
 ],
 "metadata": {
  "kernelspec": {
   "display_name": "Python 3 (ipykernel)",
   "language": "python",
   "name": "python3"
  },
  "language_info": {
   "codemirror_mode": {
    "name": "ipython",
    "version": 3
   },
   "file_extension": ".py",
   "mimetype": "text/x-python",
   "name": "python",
   "nbconvert_exporter": "python",
   "pygments_lexer": "ipython3",
   "version": "3.11.2"
  }
 },
 "nbformat": 4,
 "nbformat_minor": 5
}
