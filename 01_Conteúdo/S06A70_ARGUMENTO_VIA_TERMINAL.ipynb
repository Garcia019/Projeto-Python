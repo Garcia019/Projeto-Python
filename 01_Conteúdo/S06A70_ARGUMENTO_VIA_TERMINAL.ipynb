{
 "cells": [
  {
   "cell_type": "markdown",
   "id": "a4855d88-523c-4c68-b831-f39d50629f09",
   "metadata": {},
   "source": [
    "##  Argumento Via Terminal\n",
    "***S06 A70***\n",
    "\n",
    "Como passar informações para o algoritmo via terminal não como um usuário mas diferente, importando o modulo sys conseguimos verificar o argumento passado ao executar o script ou seja podemos executar o ***modulo/arquivo/código/programa*** utilizando os parametros passados no terminal extraido atraves do argumento gerado, essa funcionalidade não funciona aqui pois estamos no jupyter notebook sendo que não conseguimos abrir esse código utilizando terminal.\n",
    "\n",
    "***import sys***\n",
    "\n",
    "***sys.argv[1]*** \n",
    "\n",
    "Isso é referente a todo o argumento passado após chamar o ***modulo/arquivo/código/programa***\n",
    "\n",
    "Porem para utilizar é necessário tratar algumas situações que podemo ocasionar problemas na execução do software"
   ]
  },
  {
   "cell_type": "code",
   "execution_count": null,
   "id": "f0c7d045-34d0-436f-81ac-afa862c49dc0",
   "metadata": {},
   "outputs": [
    {
     "name": "stdout",
     "output_type": "stream",
     "text": [
      "C:\\Users\\mathe\\AppData\\Local\\Programs\\Python\\Python311\\Lib\\site-packages\\ipykernel_launcher.py\n"
     ]
    }
   ],
   "source": [
    "# VERSÃO ÁREA DA CIRCUNFERÊNCIA V9.0\n",
    "#! python\n",
    "from math import pi # importa apenas a funcionalidade pi do módulo math ficando apenas disponível o pi\n",
    "import sys\n",
    "\n",
    "\n",
    "def circulo(raio): #sequencia de passos que voce defini um nome para usar ele diversar vezes\n",
    "    return pi * float(raio) ** 2\n",
    "\n",
    "\n",
    "if __name__ == \"__main__\":\n",
    "    # print(sys.argv[0]) mostra na tela a posicao 0 do argumento que foi escrito no proprio terminal\n",
    "    # raio = sys.argv[1] define que o raio sera o primeiro numero escrito a partir da chamada do modulo no terminal\n",
    "    area = circulo(raio)\n",
    "    print(f\"Á área da circunferência é de {area:.2f}\")\n",
    "    "
   ]
  }
 ],
 "metadata": {
  "kernelspec": {
   "display_name": "Python 3 (ipykernel)",
   "language": "python",
   "name": "python3"
  },
  "language_info": {
   "codemirror_mode": {
    "name": "ipython",
    "version": 3
   },
   "file_extension": ".py",
   "mimetype": "text/x-python",
   "name": "python",
   "nbconvert_exporter": "python",
   "pygments_lexer": "ipython3",
   "version": "3.11.2"
  }
 },
 "nbformat": 4,
 "nbformat_minor": 5
}
