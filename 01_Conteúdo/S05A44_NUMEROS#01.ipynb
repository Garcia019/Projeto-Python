{
 "cells": [
  {
   "cell_type": "markdown",
   "id": "8ae6a666-31a0-4eca-aaf5-7efbd3816278",
   "metadata": {},
   "source": [
    "## Número #01\n",
    "\n",
    "***S5 E44***\n",
    "\n",
    "Aula com objetivo de definir os tipos int e float, funções correspondentes a cada um desses tipos## "
   ]
  },
  {
   "cell_type": "code",
   "execution_count": 1,
   "id": "30ad4b2f-014d-497f-be38-1badc5c41c3e",
   "metadata": {},
   "outputs": [
    {
     "data": {
      "text/plain": [
       "2.5"
      ]
     },
     "execution_count": 1,
     "metadata": {},
     "output_type": "execute_result"
    }
   ],
   "source": [
    "dir(int)\n",
    "dir(float)\n",
    "\n",
    "a = 5\n",
    "b = 2.5\n",
    "\n",
    "a / b\n",
    "a + b\n",
    "a * b\n",
    "\n",
    "# todos os resultados das operações realizadas com tipo float continuam a ser do tipo float indepente do tipo do outro operando\n",
    "\n",
    "b.is_integer()\n",
    "5.0.is_integer()\n",
    "\n",
    "# função is_integer responde se o valor é inteiro, independente se ele for do tipo float ou int (exemplo 5.0 tipo float porém continua sendo um inteiro)\n",
    "\n",
    "(-2).__abs__()\n",
    "abs(-2)\n",
    "\n",
    "(-2.5).__abs__()\n",
    "abs(-2.5)\n",
    "\n",
    "# funções podem ter em seu escopo do buildins a utilização para seus tipos nesse caso a função abs torna o valor absoluto independente\n",
    "# se ele for do tipo float ou int"
   ]
  }
 ],
 "metadata": {
  "kernelspec": {
   "display_name": "Python 3 (ipykernel)",
   "language": "python",
   "name": "python3"
  },
  "language_info": {
   "codemirror_mode": {
    "name": "ipython",
    "version": 3
   },
   "file_extension": ".py",
   "mimetype": "text/x-python",
   "name": "python",
   "nbconvert_exporter": "python",
   "pygments_lexer": "ipython3",
   "version": "3.11.2"
  }
 },
 "nbformat": 4,
 "nbformat_minor": 5
}
