{
 "cells": [
  {
   "cell_type": "markdown",
   "id": "718ce4ad-ba8d-4ccb-b0f5-14fa27614a00",
   "metadata": {},
   "source": [
    "## Dicionários #01\n",
    "\n",
    "***S05 A54***\n",
    "\n",
    "Estruturas em python que contem a chave valor, dando continuidade aos estudo das estruturas, dicionario pode ser indexida a partir de qualquer tipo de dado, geralmente sendo indexida por string. Sempre funcionando com par chave e valor."
   ]
  },
  {
   "cell_type": "code",
   "execution_count": 1,
   "id": "df566d75-4878-44ba-a9c2-d1bf7931fcfc",
   "metadata": {},
   "outputs": [
    {
     "data": {
      "text/plain": [
       "[]"
      ]
     },
     "execution_count": 1,
     "metadata": {},
     "output_type": "execute_result"
    }
   ],
   "source": [
    "pessoa = {\"nome\": \"Prof(a). Ana\", \"idade\": 38, \"cursos\": [\"Inglês\", \"Português\"]}\n",
    "type(pessoa)\n",
    "# dir(dict)\n",
    "len(pessoa)\n",
    "\n",
    "pessoa\n",
    "pessoa[\"nome\"]\n",
    "pessoa[\"idade\"]\n",
    "pessoa[\"cursos\"]\n",
    "pessoa[\"cursos\"][1]\n",
    "# pessoa[\"tags\"] error de chave não existe essa chave nesse dicionario\n",
    "pessoa.keys()\n",
    "pessoa.values()\n",
    "pessoa.items() # retorna os itens do dicionario chave e valor\n",
    "pessoa.get(\"idade\")\n",
    "pessoa.get(\"tags\") # não retorna nada se não achar a chave tags\n",
    "pessoa.get(\"tags\", []) # você consegue definir através do segundo parametro oq retornar caso nao ache"
   ]
  }
 ],
 "metadata": {
  "kernelspec": {
   "display_name": "Python 3 (ipykernel)",
   "language": "python",
   "name": "python3"
  },
  "language_info": {
   "codemirror_mode": {
    "name": "ipython",
    "version": 3
   },
   "file_extension": ".py",
   "mimetype": "text/x-python",
   "name": "python",
   "nbconvert_exporter": "python",
   "pygments_lexer": "ipython3",
   "version": "3.11.2"
  }
 },
 "nbformat": 4,
 "nbformat_minor": 5
}
