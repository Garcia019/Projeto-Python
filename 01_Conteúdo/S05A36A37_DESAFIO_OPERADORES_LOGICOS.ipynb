{
 "cells": [
  {
   "cell_type": "markdown",
   "id": "f6b76268-f687-46dc-b5a8-614b6c0e510a",
   "metadata": {},
   "source": [
    "## Desafio Operadores Lógicos \n",
    "***S5 A36 e A37***"
   ]
  },
  {
   "cell_type": "code",
   "execution_count": 1,
   "id": "6d779cc4-49a3-4506-b1ba-c223bef7971c",
   "metadata": {},
   "outputs": [
    {
     "name": "stdout",
     "output_type": "stream",
     "text": [
      "TV 50' = False | TV 32' = False | Sorvete = False | Saudável = True\n"
     ]
    }
   ],
   "source": [
    "# Desafio Operadores Lógicos\n",
    "\n",
    "trabalho_terca = False\n",
    "trabalho_quinta = False\n",
    "\n",
    "televisao_50 = trabalho_terca and trabalho_quinta\n",
    "televisao_32 = trabalho_quinta != trabalho_terca\n",
    "sorvete = televisao_50 or televisao_32\n",
    "saude =  not sorvete\n",
    "\n",
    "print(f\"TV 50' = {televisao_50} | TV 32' = {televisao_32} | Sorvete = {sorvete} | Saudável = {saude}\")"
   ]
  }
 ],
 "metadata": {
  "kernelspec": {
   "display_name": "Python 3 (ipykernel)",
   "language": "python",
   "name": "python3"
  },
  "language_info": {
   "codemirror_mode": {
    "name": "ipython",
    "version": 3
   },
   "file_extension": ".py",
   "mimetype": "text/x-python",
   "name": "python",
   "nbconvert_exporter": "python",
   "pygments_lexer": "ipython3",
   "version": "3.11.2"
  }
 },
 "nbformat": 4,
 "nbformat_minor": 5
}
