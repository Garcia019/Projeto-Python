{
 "cells": [
  {
   "cell_type": "markdown",
   "id": "2f1daf7a-9387-45ad-9404-163c54badfe2",
   "metadata": {},
   "source": [
    "## Desafio Versão Inicial (Resp)\n",
    "\n",
    "***S06 A59***\n",
    "\n",
    "Essa aula tem como objetivo revisar a resposta do desafio da aula anterior E58 e verificar se o algoritmo atende as necessidade solicitadas pelo professor durante as aulas e atendeu, vamos manter o algoritmo e atualizando durante as aulas com comentarios para atualização"
   ]
  },
  {
   "cell_type": "code",
   "execution_count": null,
   "id": "ddd12859-1c2e-452b-b260-c64e182cca9a",
   "metadata": {},
   "outputs": [],
   "source": [
    "# VERSÃO ÁREA DA CIRCUNFERÊNCIA V1.0\n",
    "\n",
    "raio = 50\n",
    "pi = 3.14159\n",
    "area_circunferencia = pi * raio ** 2\n",
    "print(area_circunferencia)"
   ]
  }
 ],
 "metadata": {
  "kernelspec": {
   "display_name": "Python 3 (ipykernel)",
   "language": "python",
   "name": "python3"
  },
  "language_info": {
   "codemirror_mode": {
    "name": "ipython",
    "version": 3
   },
   "file_extension": ".py",
   "mimetype": "text/x-python",
   "name": "python",
   "nbconvert_exporter": "python",
   "pygments_lexer": "ipython3",
   "version": "3.11.2"
  }
 },
 "nbformat": 4,
 "nbformat_minor": 5
}
