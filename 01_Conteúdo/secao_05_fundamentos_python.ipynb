{
 "cells": [
  {
   "cell_type": "markdown",
   "id": "191d663e-7394-48bb-9e1b-60a5878d9f40",
   "metadata": {},
   "source": [
    "# Seção 5 Fundamentos Python - 32/32 Episódios"
   ]
  },
  {
   "cell_type": "markdown",
   "id": "673288a8-3ce3-4002-966d-bad275ff5b79",
   "metadata": {},
   "source": [
    "## Primeiros Exemplos\n",
    "***S5 E26***\n",
    "\n",
    "Python se importa com quebra de linhas, a ideia é gerar uma setença por linha porem a formas de quebrar a setença em varias linhas sem erro\n",
    "segue alguns exemplos de uma mesma sentenças em várias linhas"
   ]
  },
  {
   "cell_type": "code",
   "execution_count": null,
   "id": "a471d90e-9ae7-47b9-82b4-6be131d30353",
   "metadata": {},
   "outputs": [],
   "source": [
    "print(\"primeiro programa\")\n",
    "1 + 2 "
   ]
  },
  {
   "cell_type": "code",
   "execution_count": null,
   "id": "d86b1594-f487-4e74-b05f-c382b720a6fe",
   "metadata": {},
   "outputs": [],
   "source": [
    "print( \n",
    "    \"primeiro programa 2\")"
   ]
  },
  {
   "cell_type": "code",
   "execution_count": null,
   "id": "f3da4fbd-1aa1-4d41-9b11-1796147297fe",
   "metadata": {},
   "outputs": [],
   "source": [
    "1\n",
    " + 2"
   ]
  },
  {
   "cell_type": "code",
   "execution_count": null,
   "id": "0cfc4a61-e05e-4f15-8fd0-2cb491bf84fc",
   "metadata": {},
   "outputs": [],
   "source": [
    "1 \\\n",
    " + 2"
   ]
  },
  {
   "cell_type": "code",
   "execution_count": null,
   "id": "d848ab5e-0e45-4425-8ca5-79b0a9ff3d7a",
   "metadata": {},
   "outputs": [],
   "source": [
    "1 + 2 + 3\n",
    "4 + 5 + 6 "
   ]
  },
  {
   "cell_type": "code",
   "execution_count": null,
   "id": "0d245fbf-017e-48e3-a63a-4466c98a71b9",
   "metadata": {},
   "outputs": [],
   "source": [
    "print(1 + 2 + 3)\n",
    "print(4 + 5 + 6)"
   ]
  },
  {
   "cell_type": "markdown",
   "id": "923d5a72-7f1b-4319-b367-49446c491beb",
   "metadata": {},
   "source": [
    "## Tipos Básico\n",
    "***S5 E27***\n",
    "\n",
    "Tipos básicos de estrutura e/ou tipo de dados,  boolean, float(real), int(inteiro), string, lista, dicionario, nulo (auência de valor)"
   ]
  },
  {
   "cell_type": "code",
   "execution_count": null,
   "id": "ae866b03-65c6-48c5-9b40-0f58340af2d5",
   "metadata": {},
   "outputs": [],
   "source": [
    "print(True)\n",
    "print(False)\n",
    "print(1.2 + 1)\n",
    "print(\"Aqui eu falo na minha lingua!\")\n",
    "print('tb funciona.')\n",
    "print(\"Você é \" + 3 * \"muito \" + \"legal!\")\n",
    "#print(3 + \"3\") -> ambiguidade\n",
    "print([1,2,3])\n",
    "print({\"nome\": \"Pedro\", \"idade\": 22})\n",
    "print(none)"
   ]
  },
  {
   "cell_type": "markdown",
   "id": "38b6ef29-2646-4b9d-8a73-697739201a7b",
   "metadata": {},
   "source": [
    "## Variáveis\n",
    "***S5 E28***\n",
    "\n",
    "Criada na memória do computador um \"caixa\" para guardar ou referenciar uma informação que pode ser utilizado depois ao solicita-la pelo nome, o símbolo \"=\" é um simbolo de atribuição. Python é uma linguagem dinamicamente tipada, ou seja, não é necessário definir o tipo da variável antes, o intepretador vai descobrir o tipo de variável dinamicamente."
   ]
  },
  {
   "cell_type": "code",
   "execution_count": null,
   "id": "76bddad2-5cc1-4efa-805f-cf1926a626bc",
   "metadata": {},
   "outputs": [],
   "source": [
    "a = 10\n",
    "b = 5.2\n",
    "\n",
    "print(a + b)\n",
    "\n",
    "a = \"Agora sou uma string!\"\n",
    "print(a)\n",
    "a\n",
    "b\n",
    "\n",
    "#print(a + b) -> problemas com tipo de variável"
   ]
  },
  {
   "cell_type": "markdown",
   "id": "e6ff3628-08d6-4658-8f4d-6d475d6be6c0",
   "metadata": {},
   "source": [
    "## Comentários\n",
    "***S5 E29***\n",
    "\n",
    "Comentar em python é essencial para descrever os código e ajudar a entender , CRTL + / comenta a linhas ou linhas selecionadas, podemos utilizar \"\"\" comentario de múltiplas linhas\"\"\" para comentar multiplas linhas, é melhor um código bem claro do que varios comentários para justificar e tentar explicar o código, lembrar sempre do zen of python."
   ]
  },
  {
   "cell_type": "code",
   "execution_count": null,
   "id": "2e76f2f0-b91e-44a5-9675-aa533e6bd0a5",
   "metadata": {},
   "outputs": [],
   "source": [
    "# Minhas variáveis\n",
    "salario = 3450.45\n",
    "despesas = 2456.2\n",
    "\n",
    "# asdasdjbas\n",
    "# asdasdjbas\n",
    "# asdasdjbas (CRTL + /)\n",
    "\n",
    "\"\"\"\n",
    "A ideia é calcular o \n",
    "quanto vai sobra no\n",
    "final do mes! (Comentário de Multiplas Linhas Utilizando \"\"\"\"\"\")\n",
    "\"\"\"\n",
    "'''A ideia é calcular o \n",
    "quanto vai sobra no\n",
    "final do mes! (Comentário de Multiplas Linhas Utilizando \"\"\"\"\"\")\n",
    "'''\n",
    "print(salario - despesas)\n",
    "\n",
    "# print(\"Fim\")\n",
    "print(\"Fim de verdade\") # comentário aquii tb vale!"
   ]
  },
  {
   "cell_type": "markdown",
   "id": "122ef706-ff24-4bb9-837e-eae769bc90ff",
   "metadata": {},
   "source": [
    "## Operadores Aritméticos\n",
    "***S5 E30***\n",
    "\n",
    "Estudando os operadores aritméticos de python e verificando a sintaxe de cada um neles na linguagem de programação. Todos os operadores aritméticos são considerados binário, ou seja, apenas dois operandos, existem operadores trinários, unários, operadores pré-fixadas e pós-fixadas entre outros, vamos estudar mais adiante"
   ]
  },
  {
   "cell_type": "code",
   "execution_count": null,
   "id": "19abade5-91a0-4857-9970-e7c8c7d1ee95",
   "metadata": {},
   "outputs": [],
   "source": [
    "print(2 + 3) # soma \n",
    "print(4 - 7) # subtração\n",
    "print(2 * 5.3) # multiplicação\n",
    "print(9.4 / 3) # divisão\n",
    "print(9.4 // 3) #divisão com resultado inteiro\n",
    "print(2 ** 8) # exponenciação\n",
    "print(10 % 3) # módulo e/ou resto da divisão\n",
    "\n",
    "a = 12\n",
    "b = a\n",
    "\n",
    "print(a + b)"
   ]
  },
  {
   "cell_type": "markdown",
   "id": "b3ef3bf2-ac43-4ae7-86e5-14e5f57056fd",
   "metadata": {},
   "source": [
    "## ***Desafio Operadores Aritméticos***\n",
    "***S5 E31 e EP32***\n",
    "\n",
    "Utilizar como exemplo operadores aritméticos utilizados anteriormente no exemplo salario e despesas a ideia agora é utilizar essas duas variáveis para saber o percentual do salário que estará comprometido com as despesas."
   ]
  },
  {
   "cell_type": "code",
   "execution_count": null,
   "id": "84a45bd8-d2c4-4670-92ea-dbdc7aad080a",
   "metadata": {},
   "outputs": [],
   "source": [
    "# Minhas variáveis\n",
    "salario = 3450.45\n",
    "despesas = 2456.2\n",
    "\n",
    "percentual_despesas = (despesas / salario) * 100\n",
    "\n",
    "print(f\"O percentual do seu salário gasto com despesas é de {percentual_despesas:.2f}% !\")\n",
    "print(f\"O percentual do seu salário gasto com despesas é de {percentual_despesas}% !\")"
   ]
  },
  {
   "cell_type": "markdown",
   "id": "79a80faf-de1f-4e7a-8c7d-ae4522bdab44",
   "metadata": {},
   "source": [
    "## Operadores Relacionais\n",
    "***S5 E33***\n",
    "\n",
    "Operadores que serevem para comparar valores e aprimorar a logica de programacao, não existe estritamente igual em python ele ja compara estritamente utilizando =="
   ]
  },
  {
   "cell_type": "code",
   "execution_count": null,
   "id": "e684f03c-30f5-41f8-9354-f715a27a2cbe",
   "metadata": {},
   "outputs": [],
   "source": [
    "print(3 > 4) # x > (é maior que) y?\n",
    "print(4 >= 3) # x >= (é maior ou igual que) y?\n",
    "print(1 < 2) # x < (é menor que) y ?\n",
    "print(3 <= 1) # x <= (é menor ou igual que) y? \n",
    "print(3 != 2) # x != (é diferente que) y?\n",
    "print(3 == 3) # 3 == (é igual que) y?\n",
    "print(2 == \"2\") # isso é False"
   ]
  },
  {
   "cell_type": "markdown",
   "id": "b60a6e0d-90a4-46bb-ae9d-2683d79790c0",
   "metadata": {},
   "source": [
    "## *Operadores de Atribuição*\n",
    "***S5 E34***\n",
    "\n",
    "\"=\" significa atribuição, operadores com atribuição é conjunto do operador de atribuição mais operadores aritméticos"
   ]
  },
  {
   "cell_type": "code",
   "execution_count": null,
   "id": "2e628453-c7b3-4aeb-b9f4-2f568ab552bd",
   "metadata": {},
   "outputs": [],
   "source": [
    "a = 3 # significa atribução de um valor a uma variável, nesse caso a variável a foi atribuído o valor 3\n",
    "a = a + 7 # substitui o valor da variável, nesse caso por ele mesmo mais 7\n",
    "print(a)\n",
    "\n",
    "a += 5 # acrescenta ao valor de a mais 5 unidades, atribuição aditiva (a = a + 5)\n",
    "print(a) \n",
    "\n",
    "a -= 3 # reduz ao valor de mais 3 unidades, atribuição subtrativa (a = a - 3)\n",
    "print(a)\n",
    "\n",
    "a *= 2 # multiplica o valor de a em 2 unidades, atribuição multiplicativa (a = a * 2)\n",
    "print(a)\n",
    "\n",
    "a /= 4 # divide o valor de a em 2 unidades, atribuição divisiva (a = a / 2)\n",
    "print(a)\n",
    "\n",
    "a %= 4 # divide o valor de a em 4 unidades e se apega ao resto ou modulo, atribuição modular (a = a % 2)\n",
    "print(a)\n",
    "\n",
    "a **= 8 # exponencia o valor de a em 8 unidades, atribuição exponenciativa (a = a ** 8)\n",
    "print(a)\n",
    "\n",
    "a //= 127 # divisão no qual o resultado é inteiro, (a = a // 256)  \n",
    "print(a)"
   ]
  },
  {
   "cell_type": "markdown",
   "id": "ec754feb-988d-4d51-99ec-fad2f0742233",
   "metadata": {},
   "source": [
    "## Operadores Lógicos\n",
    "***S5 E35***\n",
    "\n",
    "Operadores Lógicos podem operar diretamente em cima de valores ou expressões que apresentam valores booleanos (True e False)"
   ]
  },
  {
   "cell_type": "code",
   "execution_count": null,
   "id": "96713d10-97f1-44d3-a9a8-478585da0a6f",
   "metadata": {},
   "outputs": [],
   "source": [
    "True or False\n",
    "7 != 3 and 2 > 3. # True and False\n",
    "\n",
    "print(\"\\nTabela Verdade do AND (e)\\n\")\n",
    "\n",
    "print(f\"TRUE AND TRUE = {True and True}\") # Resultado: True (Verdadeiro)\n",
    "print(f\"TRUE AND FALSE = {True and False}\") # Resultado: False (Falso)\n",
    "print(f\"FALSE AND TRUE = {False and True}\") # Resultado: False (Falso)\n",
    "print(f\"FALSE AND FALSE = {False and False}\\n\") # Resultado: False (Falso)\n",
    "\n",
    "True and True and True and True and False and True and True and True and True\n",
    "# Basta apenas um False(Falso) eno operador binário AND,\n",
    "# que é suficiente para resultar em False(Falso)\n",
    "\n",
    "print(\"\\nTabela Verdade do OR (ou)\\n\")\n",
    "\n",
    "print(f\"TRUE OR TRUE = {True or True}\") # Resultado: True (Verdadeiro)\n",
    "print(f\"TRUE OR FALSE = {True or False}\") # Resultado: True (Verdadeiro)\n",
    "print(f\"FALSE OR TRUE = {False or True}\") # Resultado: True (Verdadeiro)\n",
    "print(f\"FALSE OR FALSE = {False or False}\\n\") # Resultado: False (Falso)\n",
    "\n",
    "False or False or False or False or True or False or False or False or False\n",
    "# Basta apenas um True(Verdadeiro) no operador binário OR,\n",
    "# que é suficiente para resultar em True(Verdadeiro)\n",
    "\n",
    "print(\"\\nTabela Verdade do XOR (Um ou Outro)\\n\")\n",
    "\n",
    "print(f\"TRUE XOR TRUE = {True != True}\")\n",
    "print(f\"TRUE XOR FALSE = {True != False}\")\n",
    "print(f\"FALSE XOR TRUE = {False != True}\")\n",
    "print(f\"FALSE XOR FALSE = {False != False}\\n\")\n",
    "\n",
    "print(\"\\nOperador de Negação (unário)\\n\")\n",
    "\n",
    "print(f\"NOT TRUE = {not True}\")\n",
    "print(f\"NOT FALSE = {not False}\")\n",
    "print(f\"NOT 0 = {not 0}\") # Negar o número 0 sempre será True\n",
    "print(f\"NOT 1 = {not 1}\\n\") # Negar qualquer número diferente de 0 será False\n",
    "\n",
    "# Cuidado!\n",
    "\n",
    "True & True # Comparador bit a bit (AND, E)\n",
    "True | True # Comparador bit a bit (OR, OU) \n",
    "True ^ True # Comparador bit a bit (XOR, UM OU OUTRO)\n",
    "\n",
    "# AND Bit-a-Bit \n",
    "# 3 = 11 \n",
    "# 2 = 10\n",
    "# _ = 10\n",
    "\n",
    "3 & 2\n",
    "\n",
    "# OR Bit-a-Bit\n",
    "# 3 = 11 \n",
    "# 2 = 10\n",
    "# _ = 11\n",
    "\n",
    "3 | 2\n",
    "\n",
    "# XOR Bit-a-Bit\n",
    "# 3 = 11 \n",
    "# 2 = 10\n",
    "# _ = 01\n",
    "\n",
    "3 ^ 2\n",
    "\n",
    "# Um pouco de realidade\n",
    "\n",
    "saldo = 1000\n",
    "salario = 4000\n",
    "despesas = 2947\n",
    "\n",
    "meta = saldo > 0 and salario - despesas >= 0.2 * salario\n",
    "meta"
   ]
  },
  {
   "cell_type": "markdown",
   "id": "a83cf311-6042-4fbb-91a9-a5d8be5756b1",
   "metadata": {},
   "source": [
    "## Desafio Operadores Lógicos \n",
    "***S5 E36 e E37***"
   ]
  },
  {
   "cell_type": "code",
   "execution_count": null,
   "id": "f2818eb4-9f04-49a8-8b72-91d70eba545e",
   "metadata": {},
   "outputs": [],
   "source": [
    "# Desafio Operadores Lógicos\n",
    "\n",
    "trabalho_terca = False\n",
    "trabalho_quinta = False\n",
    "\n",
    "televisao_50 = trabalho_terca and trabalho_quinta\n",
    "televisao_32 = trabalho_quinta != trabalho_terca\n",
    "sorvete = televisao_50 or televisao_32\n",
    "saude =  not sorvete\n",
    "\n",
    "print(f\"TV 50' = {televisao_50} | TV 32' = {televisao_32} | Sorvete = {sorvete} | Saudável = {saude}\")"
   ]
  },
  {
   "cell_type": "markdown",
   "id": "9c2028d4-9007-4cf7-a681-1e7f627b3acb",
   "metadata": {},
   "source": [
    "## Operadores Unários\n",
    "***S5 E38***\n",
    "\n",
    "Não temos operadores unários em python apenas o not que serve para negar valores e itens com resposta em boolean , \"-\" inverte o sinal do valor da variavel"
   ]
  },
  {
   "cell_type": "code",
   "execution_count": null,
   "id": "19ec775b-d595-4cd3-8670-ecb487770b70",
   "metadata": {},
   "outputs": [],
   "source": [
    "a = 3\n",
    "# a++ sintaxe inválida\n",
    "a += 1 #sintaxe Válida\n",
    "# a-- sintaxe inválida\n",
    "print(+a) # não faz absolutamente nada tenta atribuir sinal positivo a um valor negativo ou positivo que no caso vai manter\n",
    "print(-a) # atribui o sinal de negativo ao valor da variavel negativo fica positivo e positivo fica negativo"
   ]
  },
  {
   "cell_type": "markdown",
   "id": "4d5d8fc2-b944-4a7e-88b3-a1ff01265184",
   "metadata": {},
   "source": [
    "## Operadores Ternário\n",
    "***S5 E39***\n",
    "\n",
    "Operadores ternário são operadores em python com 3 operadores ou mais, nesse caso vamos considerar uam variável true, o valor dessa variavel vai decidir qual de dois itens vão ser selecionados secas ou molhadas conforme desenho abaixo."
   ]
  },
  {
   "cell_type": "code",
   "execution_count": null,
   "id": "5bcf1512-4713-4900-80e6-92ff838fbfa0",
   "metadata": {},
   "outputs": [],
   "source": [
    "esta_chovendo = False\n",
    "print(\"Hoje estou com as roupas \" + (\"secas.\", \"molhadas.\")[esta_chovendo])\n",
    "print(\"Hoje estou com as roupas \" + (\"molhadas\" if esta_chovendo else \"secas.\"))"
   ]
  },
  {
   "cell_type": "markdown",
   "id": "32f50e35-bb8c-4e2b-822d-cae50828af6f",
   "metadata": {},
   "source": [
    "## Mais Operadores (Membro / Identidade)\n",
    "***S5 E40***\n",
    "\n",
    "Operadores em python alguns tipos mais usados com \"in\" (pertencimento), is (identidade) iguais em valor de variável, variáveis definidas como lista apontam a lista em si para um espaço de memória mesmo que você crie uma lista inteira identica a anterior o espaço de memoria vai ser diferente logo o operando \"is\" retorna False(Falso), porém se você atribuir a primeira lista criada a outra variável você copiara o espaço na memoria da primeira lista sendo a mesma coisa, em variaveis para string e number ele analisa pelo valor que no caso nao representa um objeto na memoria e sim um valor "
   ]
  },
  {
   "cell_type": "code",
   "execution_count": null,
   "id": "25d6926e-289a-4a54-b594-b30e492a7aae",
   "metadata": {},
   "outputs": [],
   "source": [
    "#Operador de Membro\n",
    "\n",
    "lista = [1,2,3, \"Ana\", \"Carla\"]\n",
    "2 in lista\n",
    "\"Ana\" not in lista\n",
    "\n",
    "#Operador de Identidade\n",
    "\n",
    "x = 3\n",
    "y = x\n",
    "z = 3\n",
    "x is y\n",
    "y is z\n",
    "x is not z\n",
    "# x not is z - > não é válido pela sintaxe, o python tem sutilezas e preocupação seguir regras do ingles \n",
    "\n",
    "lista_a = [1,2,3]\n",
    "lista_b = lista_a\n",
    "lista_c = [1,2,3]\n",
    "print(lista_a is lista_b)\n",
    "print(lista_b is lista_c)\n",
    "print(lista_c is not lista_a)"
   ]
  },
  {
   "cell_type": "markdown",
   "id": "fa1b57f3-0166-46b1-8dd8-bc398e673d8d",
   "metadata": {},
   "source": [
    "## Builtins\n",
    "***S5 E41***\n",
    "\n",
    "Builtin é um módulo de python que está a disposição para o desenvolvedor durante oo uso do ambiente em python, escopo global do python, quando voce cria uma variavel voce esta alterando o escopo global do python, por isso o __builtins__ se escreve assim para nao ter problema caso alterem o valor dele no escopo global "
   ]
  },
  {
   "cell_type": "code",
   "execution_count": 1,
   "id": "21b51ded-7452-442f-a56b-0a5b3150826c",
   "metadata": {},
   "outputs": [
    {
     "name": "stdout",
     "output_type": "stream",
     "text": [
      "3.3333333333333335\n"
     ]
    },
    {
     "data": {
      "text/plain": [
       "14"
      ]
     },
     "execution_count": 1,
     "metadata": {},
     "output_type": "execute_result"
    }
   ],
   "source": [
    "# type()\n",
    "type(1)\n",
    "__builtins__.type(\"Fala Matheus\")\n",
    "__builtins__.print(10/3)\n",
    "\n",
    "#__builtins__.help(__builtins__.dir)\n",
    "# import math\n",
    "# dir() # mostra o que esta presente no escopo global\n",
    "#dir(__builtins__)\n",
    "nome = \"Matheus Garcia\"\n",
    "type(nome)\n",
    "__builtins__.len(nome)\n",
    "\n",
    " #dir()"
   ]
  },
  {
   "cell_type": "markdown",
   "id": "295f11a7-86a3-49f3-9b94-c772c3cc56f2",
   "metadata": {},
   "source": [
    "## Conversão de Tipos\n",
    "***S5 E42***\n",
    "\n",
    "Converter os tipos de cariáveis para interagir entre sim em alguns operandos específicos, int() converte apenas numeros inteiros no caso interiros em formado de string porem, nao converte letras nem numeros quebrados"
   ]
  },
  {
   "cell_type": "code",
   "execution_count": 10,
   "id": "fe3d961a-2878-4cf4-94c8-66d9ec141e71",
   "metadata": {},
   "outputs": [
    {
     "name": "stdout",
     "output_type": "stream",
     "text": [
      "<class 'int'>\n",
      "<class 'str'>\n",
      "<class 'int'> 5\n",
      "<class 'str'> 23\n"
     ]
    }
   ],
   "source": [
    "2 + 3\n",
    "\"2\" + \"3\"\n",
    "# 2 + \"3\" problemas em fazer operações tipos diferentes\n",
    "# prin(2 + \"3\") problemas do mesmo jeito indepentende\n",
    "\n",
    "a = 2\n",
    "b = \"3\"\n",
    "\n",
    "print(type(a))\n",
    "print(type(b))\n",
    "\n",
    "print(type(a + int(b)), a + int(b))\n",
    "print(type(str(a) + b), str(a) + b)"
   ]
  },
  {
   "cell_type": "markdown",
   "id": "e3a7501a-d457-4c8d-9b16-7b496af4554e",
   "metadata": {},
   "source": [
    "## Coerção Automática\n",
    "***S5 E43***\n",
    "\n",
    "O python se decide automaticamente quando não é possivel ter duplo sentido em uma operação e código o tipo final das variáveis ou operacoes vai depender do momento e do tipo de calculo que esta sendo usado"
   ]
  },
  {
   "cell_type": "code",
   "execution_count": null,
   "id": "03265d3a-1d34-4a75-850b-c9a8be2bf075",
   "metadata": {},
   "outputs": [],
   "source": [
    "10 / 2 # resultados gerados com coerção automatica em python nesse caso todo resultado de uma divisão se torna float sendo o número inteiro ou náo\n",
    "type(10 / 2)\n",
    "10 / 3\n",
    "10 // 3.33333333"
   ]
  },
  {
   "cell_type": "markdown",
   "id": "351477ce-f5ae-461f-9d7e-3b476d8ecf8d",
   "metadata": {
    "jupyter": {
     "source_hidden": true
    }
   },
   "source": [
    "## Números #01\n",
    "***S5 E44***\n",
    "\n"
   ]
  },
  {
   "cell_type": "code",
   "execution_count": 24,
   "id": "9593d089-5928-45cd-8301-1d79f59bfede",
   "metadata": {},
   "outputs": [
    {
     "data": {
      "text/plain": [
       "True"
      ]
     },
     "execution_count": 24,
     "metadata": {},
     "output_type": "execute_result"
    }
   ],
   "source": [
    "dir(int)\n",
    "dir(float)\n",
    "\n",
    "a = 5\n",
    "b = 2.5\n",
    "a / b\n",
    "a + b\n",
    "a * b\n",
    "\n",
    "type(a)\n",
    "type(b)\n",
    "type(a - b)\n",
    "\n",
    "b.is_integer()\n",
    "5.0.is_integer() #Verifica se o float é inteiro, não a classe mas o valor"
   ]
  },
  {
   "cell_type": "markdown",
   "id": "5d1e8532-599d-46dd-a7e4-955f1c77e8fc",
   "metadata": {},
   "source": [
    "## Número #01\n",
    "\n",
    "***S5 E44***\n",
    "\n",
    "Aula com objetivo de definir os tipos int e float, funções correspondentes a cada um desses tipos"
   ]
  },
  {
   "cell_type": "code",
   "execution_count": 12,
   "id": "c7fa88d6-9858-4e0a-8ab5-537279626f64",
   "metadata": {},
   "outputs": [
    {
     "data": {
      "text/plain": [
       "2.5"
      ]
     },
     "execution_count": 12,
     "metadata": {},
     "output_type": "execute_result"
    }
   ],
   "source": [
    "dir(int)\n",
    "dir(float)\n",
    "\n",
    "a = 5\n",
    "b = 2.5\n",
    "\n",
    "a / b\n",
    "a + b\n",
    "a * b\n",
    "\n",
    "# todos os resultados das operações realizadas com tipo float continuam a ser do tipo float indepente do tipo do outro operando\n",
    "\n",
    "b.is_integer()\n",
    "5.0.is_integer()\n",
    "\n",
    "# função is_integer responde se o valor é inteiro, independente se ele for do tipo float ou int (exemplo 5.0 tipo float porém continua sendo um inteiro)\n",
    "\n",
    "(-2).__abs__()\n",
    "abs(-2)\n",
    "\n",
    "(-2.5).__abs__()\n",
    "abs(-2.5)\n",
    "\n",
    "# funções podem ter em seu escopo do buildins a utilização para seus tipos nesse caso a função abs torna o valor absoluto independente\n",
    "# se ele for do tipo float ou int"
   ]
  }
 ],
 "metadata": {
  "kernelspec": {
   "display_name": "Python 3 (ipykernel)",
   "language": "python",
   "name": "python3"
  },
  "language_info": {
   "codemirror_mode": {
    "name": "ipython",
    "version": 3
   },
   "file_extension": ".py",
   "mimetype": "text/x-python",
   "name": "python",
   "nbconvert_exporter": "python",
   "pygments_lexer": "ipython3",
   "version": "3.11.2"
  }
 },
 "nbformat": 4,
 "nbformat_minor": 5
}
