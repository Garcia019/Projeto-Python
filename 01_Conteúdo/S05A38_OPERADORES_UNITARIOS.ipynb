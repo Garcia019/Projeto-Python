{
 "cells": [
  {
   "cell_type": "markdown",
   "id": "dbb35cbb-1d9f-4275-8a1d-8db9034e32b8",
   "metadata": {},
   "source": [
    "## Operadores Unários\n",
    "***S5 A38***\n",
    "\n",
    "Não temos operadores unários em python apenas o not que serve para negar valores e itens com resposta em boolean , \"-\" inverte o sinal do valor da variavel"
   ]
  },
  {
   "cell_type": "code",
   "execution_count": 1,
   "id": "555bf5e5-f69c-4e6b-84c7-568939b5461b",
   "metadata": {},
   "outputs": [
    {
     "name": "stdout",
     "output_type": "stream",
     "text": [
      "4\n",
      "-4\n"
     ]
    }
   ],
   "source": [
    "a = 3\n",
    "# a++ sintaxe inválida\n",
    "a += 1 #sintaxe Válida\n",
    "# a-- sintaxe inválida\n",
    "print(+a) # não faz absolutamente nada tenta atribuir sinal positivo a um valor negativo ou positivo que no caso vai manter\n",
    "print(-a) # atribui o sinal de negativo ao valor da variavel negativo fica positivo e positivo fica negativo"
   ]
  }
 ],
 "metadata": {
  "kernelspec": {
   "display_name": "Python 3 (ipykernel)",
   "language": "python",
   "name": "python3"
  },
  "language_info": {
   "codemirror_mode": {
    "name": "ipython",
    "version": 3
   },
   "file_extension": ".py",
   "mimetype": "text/x-python",
   "name": "python",
   "nbconvert_exporter": "python",
   "pygments_lexer": "ipython3",
   "version": "3.11.2"
  }
 },
 "nbformat": 4,
 "nbformat_minor": 5
}
