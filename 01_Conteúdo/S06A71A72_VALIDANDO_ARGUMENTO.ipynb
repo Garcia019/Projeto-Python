{
 "cells": [
  {
   "cell_type": "markdown",
   "id": "0ebed714-59ce-4efc-8add-7d3a9d31eaf0",
   "metadata": {},
   "source": [
    "## Validando Existência do Argumento \n",
    "***S06 A71 e A72***\n",
    "\n",
    "Nessa aula vamos definir as características minimas necessarioa para que o argumento seja valido para a nossa função de cálculo definindo a necessidade do argumento não ser strin nem vazio ou qualquer coisa que seja uma funcão"
   ]
  },
  {
   "cell_type": "code",
   "execution_count": 5,
   "id": "d79d1489-acc5-406a-badd-b8ed521acf9b",
   "metadata": {},
   "outputs": [
    {
     "name": "stdout",
     "output_type": "stream",
     "text": [
      "        É necessário informar o raio do círculo.\n",
      "        Sintaxe: area_circulo <raio>\n"
     ]
    }
   ],
   "source": [
    "# VERSÃO ÁREA DA CIRCUNFERÊNCIA V10.0\n",
    "#! python\n",
    "from math import pi # importa apenas a funcionalidade pi do módulo math ficando apenas disponível o pi\n",
    "import sys\n",
    "\n",
    "\n",
    "def circulo(raio): #sequencia de passos que voce defini um nome para usar ele diversar vezes\n",
    "    return pi * float(raio) ** 2\n",
    "\n",
    "\n",
    "if __name__ == \"__main__\":\n",
    "    if len(sys.argv) < 2:\n",
    "        print(\"\"\"\\\n",
    "        É necessário informar o raio do círculo.\n",
    "        Sintaxe: area_circulo <raio>\"\"\")\n",
    "    else:\n",
    "        # print(sys.argv) # mostra na tela a posicao 0 do argumento que foi escrito no proprio terminal\n",
    "        # raio = sys.argv[1] # define que o raio sera o primeiro numero escrito a partir da chamada do modulo no terminal\n",
    "        # area = circulo(raio)\n",
    "        # print(f\"Á área da circunferência é de {area:.2f}\")\n",
    "    "
   ]
  }
 ],
 "metadata": {
  "kernelspec": {
   "display_name": "Python 3 (ipykernel)",
   "language": "python",
   "name": "python3"
  },
  "language_info": {
   "codemirror_mode": {
    "name": "ipython",
    "version": 3
   },
   "file_extension": ".py",
   "mimetype": "text/x-python",
   "name": "python",
   "nbconvert_exporter": "python",
   "pygments_lexer": "ipython3",
   "version": "3.11.2"
  }
 },
 "nbformat": 4,
 "nbformat_minor": 5
}
