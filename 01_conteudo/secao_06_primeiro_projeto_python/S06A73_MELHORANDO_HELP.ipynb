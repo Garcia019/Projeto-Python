{
 "cells": [
  {
   "cell_type": "markdown",
   "id": "538964c5-9d4c-49ea-9167-d1f3f525fb52",
   "metadata": {},
   "source": [
    "## Melhorando o Help\n",
    "\n",
    "***S06 A73***\n",
    "\n",
    "Nessa aula vamos continuar as atualizaçãoes na programaçáo do código/modulo/algoritmo de calculo de area de circunferencia, hoje criamos a função help() para demonstrar funções que não recebem parametro ou elemento algum e mesmo assim ela realiza alguma função importante para o todo do projeto, ele não recebe parametros e nem retorna qualquer valor mas realiza alguma função em seu interior\n",
    "\n",
    "Nota: A partir de algumas melhorias relaziadas no código nas últimas 3 aulas criei o arquivo s06_desafio_circulo.py pois algumas funcionalidades de melhoria não funcionavam aqui no jupyter como, por exemplo ***sys.argv*** que da erro ao executar linha 18, por isso coloquei comentarios para evitar os erros e continuar a registrar as aulas pelo jupyter"
   ]
  },
  {
   "cell_type": "code",
   "execution_count": 5,
   "id": "d1fad81d-6a3f-42df-94ca-aba54b6b7054",
   "metadata": {},
   "outputs": [],
   "source": [
    "# VERSÃO ÁREA DA CIRCUNFERÊNCIA V11.0\n",
    "# Utilizar o prefixo python antes de executar pelo navegador\n",
    "from math import pi\n",
    "import sys\n",
    "\n",
    "\n",
    "def circulo(raio):\n",
    "    return pi * float(raio) ** 2\n",
    "\n",
    "\n",
    "def help():\n",
    "    print(\"É necessário informar o raio do círculo.\")\n",
    "    print(f\"Sintaxe: {sys.argv[0][2:]} <raio>\")\n",
    "\n",
    "\n",
    "if __name__ == \"__main__\":\n",
    "    if len(sys.argv) < 2:\n",
    "        help()\n",
    "    else:\n",
    "        raio = sys.argv[1]\n",
    "        # area = circulo(raio)\n",
    "        # print(f\"Á área da circunferência é de {area:.2f}\")\n"
   ]
  }
 ],
 "metadata": {
  "kernelspec": {
   "display_name": "Python 3 (ipykernel)",
   "language": "python",
   "name": "python3"
  },
  "language_info": {
   "codemirror_mode": {
    "name": "ipython",
    "version": 3
   },
   "file_extension": ".py",
   "mimetype": "text/x-python",
   "name": "python",
   "nbconvert_exporter": "python",
   "pygments_lexer": "ipython3",
   "version": "3.11.2"
  }
 },
 "nbformat": 4,
 "nbformat_minor": 5
}
