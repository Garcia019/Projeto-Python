{
 "cells": [
  {
   "cell_type": "markdown",
   "id": "3e78d381-3100-4ec7-9f4b-18b2e023bfed",
   "metadata": {},
   "source": [
    "## Melhorando a Mensagem de Erro\n",
    "***S06 A76***\n",
    "\n",
    "Dando continuidade ao processo de melhoria continua com base nas solicitações do professor com isso vamos tentar realizar a emissáo (print()) do help() na cor vermelha oq demonstra mas uma característica para que um erro aconteceu, através do python definimos duas variáveis, uma com caada cor armazenada na memória disponível no ambiente global builtins, com isso para alterar a cor chamamos diretamente essa variável na função print().\n",
    "\n",
    "Para não disponibilizar as variáveis cores no ambiente global criamos um ***classe \"TerminalColor\"*** para armazenas as cores, conseguimos acessa-las através do comando ***TerminalColor.ERRO ou TerminalColor.NORMAL***\n",
    "\n",
    "O bom é popular o escopo global em menor quantidade possivel quanto menos melhor por ter o problema em algo ou alguma coisa pode sobrescrever alguma funcionalidade ou função\n",
    "\n",
    "Nota: A partir de algumas melhorias relaziadas no código nas últimas 3 aulas criei o arquivo ***s06_desafio_circulo.py*** pois algumas funcionalidades de melhoria não funcionavam aqui no jupyter como, por exemplo sys.argv que da erro ao executar linha 18, premovi os comentarios pois o tratamento dos erros foi fundamental para que não tivesse problemas na execução porem mesmo assim seguimos não conseguindo realizar os testes pelo jupyter continuo utilizando o arquivo mencionado"
   ]
  },
  {
   "cell_type": "code",
   "execution_count": 1,
   "id": "43b9c232-3367-45e2-8386-de1e97b34ede",
   "metadata": {},
   "outputs": [
    {
     "name": "stdout",
     "output_type": "stream",
     "text": [
      "É necessário informar o raio do círculo.\n",
      "Sintaxe: \\Users\\mathe\\AppData\\Local\\Programs\\Python\\Python311\\Lib\\site-packages\\ipykernel_launcher.py <raio>\n",
      "\u001b[091mO raio informado deve ser no formato numérico\u001b[0m\n"
     ]
    },
    {
     "ename": "SystemExit",
     "evalue": "22",
     "output_type": "error",
     "traceback": [
      "An exception has occurred, use %tb to see the full traceback.\n",
      "\u001b[31mSystemExit\u001b[39m\u001b[31m:\u001b[39m 22\n"
     ]
    },
    {
     "name": "stderr",
     "output_type": "stream",
     "text": [
      "C:\\Users\\mathe\\AppData\\Local\\Programs\\Python\\Python311\\Lib\\site-packages\\IPython\\core\\interactiveshell.py:3675: UserWarning: To exit: use 'exit', 'quit', or Ctrl-D.\n",
      "  warn(\"To exit: use 'exit', 'quit', or Ctrl-D.\", stacklevel=1)\n"
     ]
    }
   ],
   "source": [
    "# VERSÃO ÁREA DA CIRCUNFERÊNCIA V14.0\n",
    "# Utilizar o prefixo python antes de executar pelo navegador\n",
    "from math import pi\n",
    "import sys\n",
    "import errno\n",
    "\n",
    "class TerminalColor:\n",
    "    ERRO = \"\\033[091m\"\n",
    "    NORMAL = \"\\033[0m\"\n",
    "\n",
    "\n",
    "def circulo(raio):\n",
    "    return pi * float(raio) ** 2\n",
    "\n",
    "\n",
    "def help():\n",
    "    print(\"É necessário informar o raio do círculo.\")\n",
    "    print(f\"Sintaxe: {sys.argv[0][2:]} <raio>\")\n",
    "\n",
    "\n",
    "if __name__ == \"__main__\":\n",
    "    if len(sys.argv) < 2:\n",
    "        help()\n",
    "        sys.exit(errno.EPERM)\n",
    "    elif not sys.argv[1].isnumeric():\n",
    "        help()\n",
    "        print(ERRO + \"O raio informado deve ser no formato numérico\" + NORMAL)\n",
    "        # NESSE PRINT É NECESSÁRIO ALTERAR A COR E RETORNAR\n",
    "        sys.exit(errno.EINVAL)\n",
    "    raio = sys.argv[1]\n",
    "    area = circulo(raio)\n",
    "    print(f\"Á área da circunferência é de {area:.2f}\")\n"
   ]
  }
 ],
 "metadata": {
  "kernelspec": {
   "display_name": "Python 3 (ipykernel)",
   "language": "python",
   "name": "python3"
  },
  "language_info": {
   "codemirror_mode": {
    "name": "ipython",
    "version": 3
   },
   "file_extension": ".py",
   "mimetype": "text/x-python",
   "name": "python",
   "nbconvert_exporter": "python",
   "pygments_lexer": "ipython3",
   "version": "3.11.2"
  }
 },
 "nbformat": 4,
 "nbformat_minor": 5
}
