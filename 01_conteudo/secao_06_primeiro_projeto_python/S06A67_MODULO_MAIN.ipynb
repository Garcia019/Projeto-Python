{
 "cells": [
  {
   "cell_type": "markdown",
   "id": "3a9d3bd5-bbd3-4438-aa31-0f549df75b59",
   "metadata": {},
   "source": [
    "## Testando Se é o Módulo Principal\n",
    "\n",
    "***S06 A67***\n",
    "\n",
    "Definindo que o código só seja executado diretamente no módulo __main__,  criando uma pré-definição de que o nome do módulo atual seja __main__, \n",
    "\n",
    "Lembrando sobre indentação em python é utilizada para definir bloco de código, assim como {} defini bloco de código em JS, Node JS\n",
    "\n",
    "Pré-definindo que o módulo dever ser o __main__ após a importar o arquivo no diretorio para o terminal python ele não é executado pois o seu módulo não será o __main__ e sim o nome do arquivo importado"
   ]
  },
  {
   "cell_type": "code",
   "execution_count": 3,
   "id": "79ffdb3b-8b67-4c2e-8793-afce504ff9a2",
   "metadata": {},
   "outputs": [
    {
     "name": "stdin",
     "output_type": "stream",
     "text": [
      "Digite o raio da circunferência que quer calcular: 12\n"
     ]
    },
    {
     "name": "stdout",
     "output_type": "stream",
     "text": [
      "Á área da circunferência é de 452.39\n"
     ]
    }
   ],
   "source": [
    "# VERSÃO ÁREA DA CIRCUNFERÊNCIA V6.0\n",
    "#! python\n",
    "from math import pi # importa apenas a funcionalidade pi do módulo math ficando apenas disponível o pi\n",
    "\n",
    "if __name__ == \"__main__\":\n",
    "    raio = float(input(\"Digite o raio da circunferência que quer calcular:\"))\n",
    "    area_circunferencia = pi * raio ** 2\n",
    "    print(f\"Á área da circunferência é de {area_circunferencia:.2f}\")\n"
   ]
  }
 ],
 "metadata": {
  "kernelspec": {
   "display_name": "Python 3 (ipykernel)",
   "language": "python",
   "name": "python3"
  },
  "language_info": {
   "codemirror_mode": {
    "name": "ipython",
    "version": 3
   },
   "file_extension": ".py",
   "mimetype": "text/x-python",
   "name": "python",
   "nbconvert_exporter": "python",
   "pygments_lexer": "ipython3",
   "version": "3.11.2"
  }
 },
 "nbformat": 4,
 "nbformat_minor": 5
}
