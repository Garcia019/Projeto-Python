{
 "cells": [
  {
   "cell_type": "markdown",
   "id": "b0e59e66-c641-41e5-8e36-59c04fe7dddb",
   "metadata": {},
   "source": [
    "## Função Sem Retorno\n",
    "\n",
    "***S06 A68***\n",
    "\n",
    "Exemplo claro de algoritmo que demonstra a utilização de uma função sem retorno, ou seja, ela realiza alguma ação no seu código porem não retorna absolutamente nada inicio do estudo de funções, basicamento funcão é globalizar um algoritmo que você vai utilizar várias vezes a palavra dedicada para definir uma função em python é **def**\n",
    "\n",
    "Ao importa o Módulo que possui uma função podemos realizar alguns tipos de importação como,\n",
    "\n",
    "***import area_circunferencia***\n",
    "\n",
    "Nesse caso você importa o modulo referenciado ou no caso o arquivo com o código e funcões e todas as funcionalidade dos arquivo estaram disponíveis via\n",
    "\n",
    "***area_circunferencia.***FUNCAO_ESCOLHIDA******\n",
    "\n",
    "Para utilizar a função diretamente podemos realizar outro tipo de importação como\n",
    "\n",
    "***from area_circunferencia import FUNCAO_ESCOLHIDA***\n",
    "\n",
    "Nesse caso podemos utilizar a FUNCAO_ESCOLHIDA diretamente sem referenciar o módulo\n"
   ]
  },
  {
   "cell_type": "code",
   "execution_count": 1,
   "id": "f8dbad11-d8af-4923-9e82-c662db4d8cc2",
   "metadata": {},
   "outputs": [
    {
     "name": "stdin",
     "output_type": "stream",
     "text": [
      "Digite o raio da circunferência que quer calcular: 123\n"
     ]
    },
    {
     "name": "stdout",
     "output_type": "stream",
     "text": [
      "Á área da circunferência é de 47529.16\n"
     ]
    }
   ],
   "source": [
    "# VERSÃO ÁREA DA CIRCUNFERÊNCIA V7.0\n",
    "#! python\n",
    "from math import pi # importa apenas a funcionalidade pi do módulo math ficando apenas disponível o pi\n",
    "\n",
    "\n",
    "def circulo(raio): #sequencia de passos que voce defini um nome para usar ele diversar vezes\n",
    "    print(f\"Á área da circunferência é de {pi * raio ** 2:.2f}\")\n",
    "\n",
    "\n",
    "if __name__ == \"__main__\":\n",
    "    raio = float(input(\"Digite o raio da circunferência que quer calcular:\"))\n",
    "    circulo(raio)  \n"
   ]
  }
 ],
 "metadata": {
  "kernelspec": {
   "display_name": "Python 3 (ipykernel)",
   "language": "python",
   "name": "python3"
  },
  "language_info": {
   "codemirror_mode": {
    "name": "ipython",
    "version": 3
   },
   "file_extension": ".py",
   "mimetype": "text/x-python",
   "name": "python",
   "nbconvert_exporter": "python",
   "pygments_lexer": "ipython3",
   "version": "3.11.2"
  }
 },
 "nbformat": 4,
 "nbformat_minor": 5
}
