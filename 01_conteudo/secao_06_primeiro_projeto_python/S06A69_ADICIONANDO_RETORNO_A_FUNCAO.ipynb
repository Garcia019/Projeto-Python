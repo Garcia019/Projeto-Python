{
 "cells": [
  {
   "cell_type": "markdown",
   "id": "31e74702-51de-4371-be5e-8e0c7ca031b0",
   "metadata": {},
   "source": [
    "## Adicionando Retorno à Função\n",
    "\n",
    "***S06 A69***\n",
    "\n",
    "Essa aula continuamos com a utilização de maneira superficial adicionando recursos utilizando como base o algoritmo de cálculo de aréa da circunferência, nesse caso removemos a usuabilidade da funcao circulo de printar ou mostrar na tela o resultado para retornar o valor definido, isso ajuda quando você apenas quer disponibilizar o valor do calculo realizado na função definado \n",
    "\n",
    "Ao importar modulos e suas funcões disponiveis podemos utilizar um funcionalidade do python muito util\n",
    "\n",
    "***import area_circulo as ac***\n",
    "\n",
    "Nesse caso você importa o módulo area_circulo funcionando como variavel ac ao inves de area_circulo"
   ]
  },
  {
   "cell_type": "code",
   "execution_count": 5,
   "id": "f69aceb5-37d3-4e33-b238-0ba9bd4343c8",
   "metadata": {},
   "outputs": [
    {
     "name": "stdin",
     "output_type": "stream",
     "text": [
      "Digite o raio da circunferência que quer calcular: 12\n"
     ]
    },
    {
     "name": "stdout",
     "output_type": "stream",
     "text": [
      "Á área da circunferência é de 452.39\n"
     ]
    }
   ],
   "source": [
    "# VERSÃO ÁREA DA CIRCUNFERÊNCIA V8.0\n",
    "#! python\n",
    "from math import pi # importa apenas a funcionalidade pi do módulo math ficando apenas disponível o pi\n",
    "\n",
    "\n",
    "def circulo(raio): #sequencia de passos que voce defini um nome para usar ele diversar vezes\n",
    "    return pi * raio ** 2\n",
    "\n",
    "\n",
    "if __name__ == \"__main__\":\n",
    "    raio = float(input(\"Digite o raio da circunferência que quer calcular:\"))\n",
    "    area = circulo(raio)\n",
    "    print(f\"Á área da circunferência é de {area:.2f}\")\n",
    "    "
   ]
  }
 ],
 "metadata": {
  "kernelspec": {
   "display_name": "Python 3 (ipykernel)",
   "language": "python",
   "name": "python3"
  },
  "language_info": {
   "codemirror_mode": {
    "name": "ipython",
    "version": 3
   },
   "file_extension": ".py",
   "mimetype": "text/x-python",
   "name": "python",
   "nbconvert_exporter": "python",
   "pygments_lexer": "ipython3",
   "version": "3.11.2"
  }
 },
 "nbformat": 4,
 "nbformat_minor": 5
}
