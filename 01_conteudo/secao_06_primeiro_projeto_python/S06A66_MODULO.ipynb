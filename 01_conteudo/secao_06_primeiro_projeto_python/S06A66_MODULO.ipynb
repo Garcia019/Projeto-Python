{
 "cells": [
  {
   "cell_type": "markdown",
   "id": "f5e15a18-dcd7-4dee-9050-d8ba3eeba1b2",
   "metadata": {},
   "source": [
    "## Um Pouco Sobre Módulo\n",
    "\n",
    "***S06 A66***\n",
    "\n",
    "Particionar o arquivo é essencial para organização, o python tem varios mecanismo para voce consiga particionar, utilizando imports voce consigo usar outros arquivos tendo um prgrama complexo divido em pacotes e modulos, sempre ao executar um arquivo ou programa ele esta localizado dentro de um modulo talvez nem sempre de um pacote mas de uma modulo com certeza, no exemplo abaixo o nome do módulo o qual o arquivo está funcionando é __main__ e não pertence a nenhuma pacote o qual é retornado como __None__, no caso pertence ao módulo __main__ é executado nesse modulo.\n",
    "\n",
    "Quando utilizamos o terminal e realizamos a abertura do terminal Python conseguimos importar algum arquivo (modulo) presente no diretório local do terminal nesse caso o módulo se torna o nome do arquivo e não mais o __main__ como estamos acostumados, porém ele é executado automaticamento ao importar diferente de outros módulos nativos do python como o import math, esses módulos eles são importados sendo disponiveis todas as suas funcionalidades porém ele durante o import não rodam o programa inteiro assim como o modulo que criamos e importamos que roda apenas na primeira vez que importado todas as linhas do arquivo(modulo) importado"
   ]
  },
  {
   "cell_type": "code",
   "execution_count": 3,
   "id": "7d2b9231-a66c-400f-aec6-5269197c0f07",
   "metadata": {},
   "outputs": [
    {
     "name": "stdin",
     "output_type": "stream",
     "text": [
      "Digite o raio da circunferência que quer calcular: 1\n"
     ]
    },
    {
     "name": "stdout",
     "output_type": "stream",
     "text": [
      "Á área da circunferência é de 3.141592653589793\n",
      "Nome do Módulo __main__\n",
      "Nome do Pacote None\n"
     ]
    }
   ],
   "source": [
    "# VERSÃO ÁREA DA CIRCUNFERÊNCIA V5.0\n",
    "#! python\n",
    "# import math\n",
    "from math import pi # importa apenas a funcionalidade pi do módulo math ficando apenas disponível o pi\n",
    "\n",
    "# print(dir()) # retirando todos os componentes do ambiente global\n",
    "\n",
    "raio = float(input(\"Digite o raio da circunferência que quer calcular:\"))\n",
    "area_circunferencia = pi * raio ** 2\n",
    "print(f\"Á área da circunferência é de {area_circunferencia:.2f}\")\n",
    "\n",
    "print(\"Nome do Módulo\", __name__)\n"
   ]
  }
 ],
 "metadata": {
  "kernelspec": {
   "display_name": "Python 3 (ipykernel)",
   "language": "python",
   "name": "python3"
  },
  "language_info": {
   "codemirror_mode": {
    "name": "ipython",
    "version": 3
   },
   "file_extension": ".py",
   "mimetype": "text/x-python",
   "name": "python",
   "nbconvert_exporter": "python",
   "pygments_lexer": "ipython3",
   "version": "3.11.2"
  }
 },
 "nbformat": 4,
 "nbformat_minor": 5
}
