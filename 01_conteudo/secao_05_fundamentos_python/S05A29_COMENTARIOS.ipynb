{
 "cells": [
  {
   "cell_type": "markdown",
   "id": "d51ada6e-d19d-41fe-a1bf-e14ddc97f5a2",
   "metadata": {},
   "source": [
    "## Comentários\n",
    "***S5 A29***\n",
    "\n",
    "Comentar em python é essencial para descrever os código e ajudar a entender , CRTL + / comenta a linhas ou linhas selecionadas, podemos utilizar \"\"\" comentario de múltiplas linhas\"\"\" para comentar multiplas linhas, é melhor um código bem claro do que varios comentários para justificar e tentar explicar o código, lembrar sempre do zen of python."
   ]
  },
  {
   "cell_type": "code",
   "execution_count": null,
   "id": "fb3a3b91-771e-42e7-a24c-60a02549c6ef",
   "metadata": {},
   "outputs": [],
   "source": [
    "# Minhas variáveis\n",
    "salario = 3450.45\n",
    "despesas = 2456.2\n",
    "\n",
    "# asdasdjbas\n",
    "# asdasdjbas\n",
    "# asdasdjbas (CRTL + /)\n",
    "\n",
    "\"\"\"\n",
    "A ideia é calcular o \n",
    "quanto vai sobra no\n",
    "final do mes! (Comentário de Multiplas Linhas Utilizando \"\"\"\"\"\")\n",
    "\"\"\"\n",
    "'''A ideia é calcular o \n",
    "quanto vai sobra no\n",
    "final do mes! (Comentário de Multiplas Linhas Utilizando \"\"\"\"\"\")\n",
    "'''\n",
    "print(salario - despesas)\n",
    "\n",
    "# print(\"Fim\")\n",
    "print(\"Fim de verdade\") # comentário aquii tb vale!"
   ]
  }
 ],
 "metadata": {
  "kernelspec": {
   "display_name": "Python 3 (ipykernel)",
   "language": "python",
   "name": "python3"
  },
  "language_info": {
   "codemirror_mode": {
    "name": "ipython",
    "version": 3
   },
   "file_extension": ".py",
   "mimetype": "text/x-python",
   "name": "python",
   "nbconvert_exporter": "python",
   "pygments_lexer": "ipython3",
   "version": "3.11.2"
  }
 },
 "nbformat": 4,
 "nbformat_minor": 5
}
