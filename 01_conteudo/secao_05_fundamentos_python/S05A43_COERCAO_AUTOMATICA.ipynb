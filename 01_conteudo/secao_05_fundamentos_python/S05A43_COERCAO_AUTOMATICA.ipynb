{
 "cells": [
  {
   "cell_type": "markdown",
   "id": "c0780b7a-a4af-4813-8d9c-eaa69ca3689f",
   "metadata": {},
   "source": [
    "## Coerção Automática\n",
    "***S5 A43***\n",
    "\n",
    "O python se decide automaticamente quando não é possivel ter duplo sentido em uma operação e código o tipo final das variáveis ou operacoes vai depender do momento e do tipo de calculo que esta sendo usado"
   ]
  },
  {
   "cell_type": "code",
   "execution_count": null,
   "id": "ccead788-dd84-4c84-892f-d7b7a5bf24b5",
   "metadata": {},
   "outputs": [],
   "source": [
    "10 / 2 # resultados gerados com coerção automatica em python nesse caso todo resultado de uma divisão se torna float sendo o número inteiro ou náo\n",
    "type(10 / 2)\n",
    "10 / 3\n",
    "10 // 3.33333333"
   ]
  }
 ],
 "metadata": {
  "kernelspec": {
   "display_name": "Python 3 (ipykernel)",
   "language": "python",
   "name": "python3"
  },
  "language_info": {
   "codemirror_mode": {
    "name": "ipython",
    "version": 3
   },
   "file_extension": ".py",
   "mimetype": "text/x-python",
   "name": "python",
   "nbconvert_exporter": "python",
   "pygments_lexer": "ipython3",
   "version": "3.11.2"
  }
 },
 "nbformat": 4,
 "nbformat_minor": 5
}
