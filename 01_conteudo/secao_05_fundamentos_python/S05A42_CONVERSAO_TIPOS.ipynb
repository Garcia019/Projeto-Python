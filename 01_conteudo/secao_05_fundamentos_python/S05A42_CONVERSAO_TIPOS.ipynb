{
 "cells": [
  {
   "cell_type": "markdown",
   "id": "2c1c8cb3-39c9-49bc-bb20-6ed9013b8470",
   "metadata": {},
   "source": [
    "## Conversão de Tipos\n",
    "***S5 A42***\n",
    "\n",
    "Converter os tipos de cariáveis para interagir entre sim em alguns operandos específicos, int() converte apenas numeros inteiros no caso interiros em formado de string porem, nao converte letras nem numeros quebrados"
   ]
  },
  {
   "cell_type": "code",
   "execution_count": 1,
   "id": "426459a9-86d1-4d73-9dcf-eade14f71670",
   "metadata": {},
   "outputs": [
    {
     "name": "stdout",
     "output_type": "stream",
     "text": [
      "<class 'int'>\n",
      "<class 'str'>\n",
      "<class 'int'> 5\n",
      "<class 'str'> 23\n"
     ]
    }
   ],
   "source": [
    "2 + 3\n",
    "\"2\" + \"3\"\n",
    "# 2 + \"3\" problemas em fazer operações tipos diferentes\n",
    "# prin(2 + \"3\") problemas do mesmo jeito indepentende\n",
    "\n",
    "a = 2\n",
    "b = \"3\"\n",
    "\n",
    "print(type(a))\n",
    "print(type(b))\n",
    "\n",
    "print(type(a + int(b)), a + int(b))\n",
    "print(type(str(a) + b), str(a) + b)"
   ]
  }
 ],
 "metadata": {
  "kernelspec": {
   "display_name": "Python 3 (ipykernel)",
   "language": "python",
   "name": "python3"
  },
  "language_info": {
   "codemirror_mode": {
    "name": "ipython",
    "version": 3
   },
   "file_extension": ".py",
   "mimetype": "text/x-python",
   "name": "python",
   "nbconvert_exporter": "python",
   "pygments_lexer": "ipython3",
   "version": "3.11.2"
  }
 },
 "nbformat": 4,
 "nbformat_minor": 5
}
