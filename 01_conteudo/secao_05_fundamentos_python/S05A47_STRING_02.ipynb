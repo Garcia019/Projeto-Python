{
 "cells": [
  {
   "cell_type": "markdown",
   "id": "55c758eb-4fdf-410c-b29b-bfe00341d39c",
   "metadata": {},
   "source": [
    "## String #02\n",
    "\n",
    "***S05 A47***\n",
    "\n",
    "Dando continuidade as característocas do String no caso a manipulação da mesma através das funções disponíveis para o seu tipo\n"
   ]
  },
  {
   "cell_type": "code",
   "execution_count": 19,
   "id": "548f98a2-4457-4da5-9cf4-40221ad5b615",
   "metadata": {},
   "outputs": [],
   "source": [
    "nome = \"Ana Paula\"\n",
    "# (nome[0] = \"A\") acessando o índice 0 na sring\n",
    "# (nome[6] = \"u\") acessando o índice 6 na string\n",
    "# (nome[-3] = \"u\") acessando o índice -3 na string\n",
    "# (nome[4:] = \"Paula\") acessando a string a partir do indice 4 ao final\n",
    "# (nome[-5:] = \"Paula\") acessando do índice -5 ao diante, considerando que o ínicio conta de tras pra frente porem pego desse índice até o final (-5 até -1)\n",
    "# (nome[:3] = \"Ana\") acessando do índice 0 (Inicio) indo até o indice 3 porém sem acresentar o índice 3, finalizando no índice 2 \n",
    "# (nome[2:5] = \"a P\")\"acessando o índice 2 incluindo esse índice e mostrando até o índice 5 sem incluí-lo\n",
    "\n",
    "numeros = \"1234567890\"\n",
    "# (numeros = \"1234567890\") mostra toda a strig de numeros\n",
    "# (numeros [::] = \"1234567890\") mostra toda a string de numeros, pois você não define o ínico, final nem intervalos para extração de números\n",
    "# (numeros[::2] = \"135779\") mostra apenas os caracteres da string pulando (x-1) possições\n",
    "# (numeros [1::2] = \"24680\") mostra apenas os caracteres da string pulando (x-1) posições porém inicia o pulo no indice do caractere informado\n",
    "# (numero[::-1] = \"0987654321\") invertea string inteira utlizando essa nomeclatura"
   ]
  }
 ],
 "metadata": {
  "kernelspec": {
   "display_name": "Python 3 (ipykernel)",
   "language": "python",
   "name": "python3"
  },
  "language_info": {
   "codemirror_mode": {
    "name": "ipython",
    "version": 3
   },
   "file_extension": ".py",
   "mimetype": "text/x-python",
   "name": "python",
   "nbconvert_exporter": "python",
   "pygments_lexer": "ipython3",
   "version": "3.11.2"
  }
 },
 "nbformat": 4,
 "nbformat_minor": 5
}
