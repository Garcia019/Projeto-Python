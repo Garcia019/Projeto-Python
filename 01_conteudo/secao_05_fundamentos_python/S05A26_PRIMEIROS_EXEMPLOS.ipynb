{
 "cells": [
  {
   "cell_type": "markdown",
   "id": "c9c1145e-659a-4456-8531-33e20cb8d52b",
   "metadata": {},
   "source": [
    "## Primeiros Exemplos\n",
    "***S5 A26***\n",
    "\n",
    "Python se importa com quebra de linhas, a ideia é gerar uma setença por linha porem a formas de quebrar a setença em varias linhas sem erro\n",
    "segue alguns exemplos de uma mesma sentenças em várias linhas"
   ]
  },
  {
   "cell_type": "code",
   "execution_count": null,
   "id": "8b74807c-968b-4fd9-a8be-7a6a33f248d5",
   "metadata": {},
   "outputs": [],
   "source": [
    "print(\"primeiro programa\")\n",
    "1 + 2 "
   ]
  },
  {
   "cell_type": "code",
   "execution_count": null,
   "id": "b88adc23-39fe-448f-a389-672767c3ab1b",
   "metadata": {},
   "outputs": [],
   "source": [
    "print( \n",
    "    \"primeiro programa 2\")"
   ]
  },
  {
   "cell_type": "code",
   "execution_count": null,
   "id": "0c0709f3-d6b7-4e60-803a-b784ef4055af",
   "metadata": {},
   "outputs": [],
   "source": [
    "1\n",
    " + 2"
   ]
  },
  {
   "cell_type": "code",
   "execution_count": null,
   "id": "b67cb2ee-d63b-477a-84d8-09d3a3c7c927",
   "metadata": {},
   "outputs": [],
   "source": [
    "1 \\\n",
    " + 2"
   ]
  },
  {
   "cell_type": "code",
   "execution_count": null,
   "id": "fad00a97-6a70-4cb5-98fa-cf6b6aef7e55",
   "metadata": {},
   "outputs": [],
   "source": [
    "1 + 2 + 3\n",
    "4 + 5 + 6 "
   ]
  },
  {
   "cell_type": "code",
   "execution_count": null,
   "id": "20f79eb9-d6b5-43f3-95e4-a95e43ba4f4c",
   "metadata": {},
   "outputs": [],
   "source": [
    "print(1 + 2 + 3)\n",
    "print(4 + 5 + 6)"
   ]
  }
 ],
 "metadata": {
  "kernelspec": {
   "display_name": "Python 3 (ipykernel)",
   "language": "python",
   "name": "python3"
  },
  "language_info": {
   "codemirror_mode": {
    "name": "ipython",
    "version": 3
   },
   "file_extension": ".py",
   "mimetype": "text/x-python",
   "name": "python",
   "nbconvert_exporter": "python",
   "pygments_lexer": "ipython3",
   "version": "3.11.2"
  }
 },
 "nbformat": 4,
 "nbformat_minor": 5
}
