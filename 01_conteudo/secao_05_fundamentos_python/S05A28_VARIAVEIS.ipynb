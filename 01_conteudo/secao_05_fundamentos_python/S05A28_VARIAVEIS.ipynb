{
 "cells": [
  {
   "cell_type": "markdown",
   "id": "91104ffe-d625-45dd-89b1-3c446e9e4b4c",
   "metadata": {},
   "source": [
    "## Variáveis\n",
    "***S5 A28***\n",
    "\n",
    "Criada na memória do computador um \"caixa\" para guardar ou referenciar uma informação que pode ser utilizado depois ao solicita-la pelo nome, o símbolo \"=\" é um simbolo de atribuição. Python é uma linguagem dinamicamente tipada, ou seja, não é necessário definir o tipo da variável antes, o intepretador vai descobrir o tipo de variável dinamicamente."
   ]
  },
  {
   "cell_type": "code",
   "execution_count": 1,
   "id": "d3b5304e-49e4-4a2a-8eaf-a4c86788de19",
   "metadata": {},
   "outputs": [
    {
     "name": "stdout",
     "output_type": "stream",
     "text": [
      "15.2\n",
      "Agora sou uma string!\n"
     ]
    },
    {
     "data": {
      "text/plain": [
       "5.2"
      ]
     },
     "execution_count": 1,
     "metadata": {},
     "output_type": "execute_result"
    }
   ],
   "source": [
    "a = 10\n",
    "b = 5.2\n",
    "\n",
    "print(a + b)\n",
    "\n",
    "a = \"Agora sou uma string!\"\n",
    "print(a)\n",
    "a\n",
    "b\n",
    "\n",
    "#print(a + b) -> problemas com tipo de variável"
   ]
  }
 ],
 "metadata": {
  "kernelspec": {
   "display_name": "Python 3 (ipykernel)",
   "language": "python",
   "name": "python3"
  },
  "language_info": {
   "codemirror_mode": {
    "name": "ipython",
    "version": 3
   },
   "file_extension": ".py",
   "mimetype": "text/x-python",
   "name": "python",
   "nbconvert_exporter": "python",
   "pygments_lexer": "ipython3",
   "version": "3.11.2"
  }
 },
 "nbformat": 4,
 "nbformat_minor": 5
}
