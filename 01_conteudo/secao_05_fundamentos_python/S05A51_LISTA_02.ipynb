{
 "cells": [
  {
   "cell_type": "markdown",
   "id": "a8b811ef-8c95-46d0-9bed-6299c478b9ef",
   "metadata": {},
   "source": [
    "## Lista #02\n",
    "\n",
    "***S05 A51***\n",
    "\n",
    "Nessa continuação de lista vamos verificar como conseguimos acessar o elemento da lista semelhante ao acessar os itens da string"
   ]
  },
  {
   "cell_type": "code",
   "execution_count": 13,
   "id": "54d52672-d2bc-4f6e-8532-5c143a0a9ce1",
   "metadata": {},
   "outputs": [
    {
     "data": {
      "text/plain": [
       "1"
      ]
     },
     "execution_count": 13,
     "metadata": {},
     "output_type": "execute_result"
    }
   ],
   "source": [
    "lista = [1, 2, \"Rebeca\", \"Guilherme\", 3.1415]\n",
    "lista.index(\"Guilherme\") # mostra qual a posicao do item específicado na lista, estrutura indexada iniciando do 0\n",
    "# lista.index(0) error 0 is not list\n",
    "lista[2]\n",
    "1 in lista\n",
    "\"Rebeca\" in lista\n",
    "\"Pedro\" not in lista\n",
    "lista[0]\n",
    "lista[4]\n",
    "# lista[5] erros list index out of range nao existe essa posicao nessa lista\n",
    "lista[-1]\n",
    "lista[-5]"
   ]
  }
 ],
 "metadata": {
  "kernelspec": {
   "display_name": "Python 3 (ipykernel)",
   "language": "python",
   "name": "python3"
  },
  "language_info": {
   "codemirror_mode": {
    "name": "ipython",
    "version": 3
   },
   "file_extension": ".py",
   "mimetype": "text/x-python",
   "name": "python",
   "nbconvert_exporter": "python",
   "pygments_lexer": "ipython3",
   "version": "3.11.2"
  }
 },
 "nbformat": 4,
 "nbformat_minor": 5
}
