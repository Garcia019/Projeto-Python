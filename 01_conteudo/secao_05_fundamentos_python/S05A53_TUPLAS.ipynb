{
 "cells": [
  {
   "cell_type": "markdown",
   "id": "a9a9f6d8-3f8b-4e97-8433-b9223f6f32e2",
   "metadata": {},
   "source": [
    "## Tuplas\n",
    "\n",
    "***S05 A53***\n",
    "\n",
    "Tuplas é diferente de lista ela não pode ser modificada, nem adicionar nem alterar nem mexer nos elemente presentes nesse tipo, sequencia imutavel"
   ]
  },
  {
   "cell_type": "code",
   "execution_count": 18,
   "id": "5d91af38-7995-4541-9977-bce6771bb11d",
   "metadata": {},
   "outputs": [
    {
     "data": {
      "text/plain": [
       "1"
      ]
     },
     "execution_count": 18,
     "metadata": {},
     "output_type": "execute_result"
    }
   ],
   "source": [
    "tupla = tuple()\n",
    "tupla = ()\n",
    "type(tupla)\n",
    "dir(tupla)\n",
    "#help(tuple)\n",
    "# tupla = (\"um\") isso é uma string não uma tupla tomar cuidado com a sintaxe da linguagem\n",
    "tupla = (\"um\",)\n",
    "type(tupla)\n",
    "tupla[0]\n",
    "# tupla[0] = \"novo\" error 'tuple' não suporta alteração do seu conteúdo\n",
    "\n",
    "cores = (\"verde\", \"amarelo\", \"azul\", \"branco\")\n",
    "cores[0]\n",
    "cores[-1]\n",
    "cores[1:]\n",
    "\n",
    "cores.index(\"amarelo\")\n",
    "cores.count(\"azul\")\n",
    "\n",
    "# tupla em geral tem as mesmas funcionalidades de mostragem para os itens como a lista porem nao pode ser alterada/modificada"
   ]
  }
 ],
 "metadata": {
  "kernelspec": {
   "display_name": "Python 3 (ipykernel)",
   "language": "python",
   "name": "python3"
  },
  "language_info": {
   "codemirror_mode": {
    "name": "ipython",
    "version": 3
   },
   "file_extension": ".py",
   "mimetype": "text/x-python",
   "name": "python",
   "nbconvert_exporter": "python",
   "pygments_lexer": "ipython3",
   "version": "3.11.2"
  }
 },
 "nbformat": 4,
 "nbformat_minor": 5
}
