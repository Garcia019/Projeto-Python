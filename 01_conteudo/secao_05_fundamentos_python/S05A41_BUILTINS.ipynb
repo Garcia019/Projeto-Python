{
 "cells": [
  {
   "cell_type": "markdown",
   "id": "3b6a6c0d-f293-4367-86b4-632c04465208",
   "metadata": {},
   "source": [
    "## Builtins\n",
    "***S5 A41***\n",
    "\n",
    "Builtin é um módulo de python que está a disposição para o desenvolvedor durante oo uso do ambiente em python, escopo global do python, quando voce cria uma variavel voce esta alterando o escopo global do python, por isso o __builtins__ se escreve assim para nao ter problema caso alterem o valor dele no escopo global "
   ]
  },
  {
   "cell_type": "code",
   "execution_count": 1,
   "id": "f25cbb78-191f-48cd-b41d-adcae5bfff57",
   "metadata": {},
   "outputs": [
    {
     "name": "stdout",
     "output_type": "stream",
     "text": [
      "3.3333333333333335\n"
     ]
    },
    {
     "data": {
      "text/plain": [
       "14"
      ]
     },
     "execution_count": 1,
     "metadata": {},
     "output_type": "execute_result"
    }
   ],
   "source": [
    "# type()\n",
    "type(1)\n",
    "__builtins__.type(\"Fala Matheus\")\n",
    "__builtins__.print(10/3)\n",
    "\n",
    "#__builtins__.help(__builtins__.dir)\n",
    "# import math\n",
    "# dir() # mostra o que esta presente no escopo global\n",
    "#dir(__builtins__)\n",
    "nome = \"Matheus Garcia\"\n",
    "type(nome)\n",
    "__builtins__.len(nome)\n",
    "\n",
    " #dir()"
   ]
  }
 ],
 "metadata": {
  "kernelspec": {
   "display_name": "Python 3 (ipykernel)",
   "language": "python",
   "name": "python3"
  },
  "language_info": {
   "codemirror_mode": {
    "name": "ipython",
    "version": 3
   },
   "file_extension": ".py",
   "mimetype": "text/x-python",
   "name": "python",
   "nbconvert_exporter": "python",
   "pygments_lexer": "ipython3",
   "version": "3.11.2"
  }
 },
 "nbformat": 4,
 "nbformat_minor": 5
}
