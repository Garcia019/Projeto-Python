{
 "cells": [
  {
   "cell_type": "markdown",
   "id": "2676bdf3-265d-479a-b309-a6bd1b8b38ab",
   "metadata": {},
   "source": [
    "## Interpolação\n",
    "\n",
    "***S05 A57***\n",
    "\n",
    "Interpolar é substituir valores dentro da stings, vamos aprender 4 formas diferentes para entender todo o sistema."
   ]
  },
  {
   "cell_type": "code",
   "execution_count": 33,
   "id": "30693fff-c529-4c37-b84a-e2f0fe795e8c",
   "metadata": {},
   "outputs": [
    {
     "name": "stdout",
     "output_type": "stream",
     "text": [
      "Nome: Ana | Idade: 30 | Altura: 1.63 | É Mulher: True\n",
      "Nome: Ana | Idade: 30 | Altura: 1.6283 | É Mulher: True\n",
      "Nome: Ana | Idade: 30 | Altura: 1.6283 | É Mulher: True\n",
      "Nome: Ana | Idade: 30 | Altura: 1.6283 | É Mulher: True\n"
     ]
    }
   ],
   "source": [
    "from string import Template\n",
    "\n",
    "nome, idade, altura, mulher= \"Ana\", 30, 1.6283, True\n",
    "\n",
    "# VERSÃO MAIS ANTIGA\n",
    "\n",
    "# %s é utilizado para substituir elementos do tipo strigs dentro da string pela variavel externa\n",
    "# %d é utilizado para substituir valores inteiros\n",
    "# %f é utilizado para substituir valores float (.2f limita o elemento do tipo float a arredondar 02 casas decimais depois do ponto)\n",
    "# %r é utilizado para substituir valores booleanos (True / False)\n",
    "\n",
    "print(\"Nome: %s | Idade: %d | Altura: %.2f | É Mulher: %r\" % (nome, idade, altura, mulher)) \n",
    "\n",
    "# VERSÕES PYTHON < 3.6\n",
    "\n",
    "print(\"Nome: {} | Idade: {} | Altura: {} | É Mulher: {}\".format(nome, idade, altura, mulher)) # ordena na ordem de selecão do format\n",
    "\n",
    "# VERSÕES PYTHON > 3.6\n",
    "\n",
    "print(f\"Nome: {nome} | Idade: {idade} | Altura: {altura} | É Mulher: {mulher}\") \n",
    "\n",
    "# VERSÃO PARA CHATOS\n",
    "\n",
    "s = Template(\"Nome: $nome | Idade: $idade | Altura: $altura | É Mulher: $mulher\")\n",
    "print(s.substitute(nome = nome, idade = idade, altura = altura, mulher = mulher))\n",
    "\n",
    "# o primeiro nome é a que foi criada dentro do Template e o segundo é variavel representada no escopo globaL"
   ]
  }
 ],
 "metadata": {
  "kernelspec": {
   "display_name": "Python 3 (ipykernel)",
   "language": "python",
   "name": "python3"
  },
  "language_info": {
   "codemirror_mode": {
    "name": "ipython",
    "version": 3
   },
   "file_extension": ".py",
   "mimetype": "text/x-python",
   "name": "python",
   "nbconvert_exporter": "python",
   "pygments_lexer": "ipython3",
   "version": "3.11.2"
  }
 },
 "nbformat": 4,
 "nbformat_minor": 5
}
