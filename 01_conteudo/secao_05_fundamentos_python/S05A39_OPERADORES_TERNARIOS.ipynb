{
 "cells": [
  {
   "cell_type": "markdown",
   "id": "442eb139-a2a3-4e9b-a964-ec01a8b11d9d",
   "metadata": {},
   "source": [
    "## Operadores Ternário\n",
    "***S5 A39***\n",
    "\n",
    "Operadores ternário são operadores em python com 3 operadores ou mais, nesse caso vamos considerar uam variável true, o valor dessa variavel vai decidir qual de dois itens vão ser selecionados secas ou molhadas conforme desenho abaixo."
   ]
  },
  {
   "cell_type": "code",
   "execution_count": null,
   "id": "3057c961-7e3a-4d4e-aefe-5de2f67e9f98",
   "metadata": {},
   "outputs": [],
   "source": [
    "esta_chovendo = False\n",
    "print(\"Hoje estou com as roupas \" + (\"secas.\", \"molhadas.\")[esta_chovendo])\n",
    "print(\"Hoje estou com as roupas \" + (\"molhadas\" if esta_chovendo else \"secas.\"))"
   ]
  }
 ],
 "metadata": {
  "kernelspec": {
   "display_name": "Python 3 (ipykernel)",
   "language": "python",
   "name": "python3"
  },
  "language_info": {
   "codemirror_mode": {
    "name": "ipython",
    "version": 3
   },
   "file_extension": ".py",
   "mimetype": "text/x-python",
   "name": "python",
   "nbconvert_exporter": "python",
   "pygments_lexer": "ipython3",
   "version": "3.11.2"
  }
 },
 "nbformat": 4,
 "nbformat_minor": 5
}
