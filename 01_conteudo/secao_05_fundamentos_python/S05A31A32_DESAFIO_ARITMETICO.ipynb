{
 "cells": [
  {
   "cell_type": "markdown",
   "id": "bfcaa46f-bd3e-4ff9-a50e-99eafb9d4204",
   "metadata": {},
   "source": [
    "## ## ***Desafio Operadores Aritméticos***\n",
    "***S5 A31 e A32***\n",
    "\n",
    "Utilizar como exemplo operadores aritméticos utilizados anteriormente no exemplo salario e despesas a ideia agora é utilizar essas duas variáveis para saber o percentual do salário que estará comprometido com as despesas."
   ]
  },
  {
   "cell_type": "code",
   "execution_count": null,
   "id": "62ead34e-a1fe-4037-ada4-d488140fc704",
   "metadata": {},
   "outputs": [],
   "source": [
    "# Minhas variáveis\n",
    "salario = 3450.45\n",
    "despesas = 2456.2\n",
    "\n",
    "percentual_despesas = (despesas / salario) * 100\n",
    "\n",
    "print(f\"O percentual do seu salário gasto com despesas é de {percentual_despesas:.2f}% !\")\n",
    "print(f\"O percentual do seu salário gasto com despesas é de {percentual_despesas}% !\")"
   ]
  }
 ],
 "metadata": {
  "kernelspec": {
   "display_name": "Python 3 (ipykernel)",
   "language": "python",
   "name": "python3"
  },
  "language_info": {
   "codemirror_mode": {
    "name": "ipython",
    "version": 3
   },
   "file_extension": ".py",
   "mimetype": "text/x-python",
   "name": "python",
   "nbconvert_exporter": "python",
   "pygments_lexer": "ipython3",
   "version": "3.11.2"
  }
 },
 "nbformat": 4,
 "nbformat_minor": 5
}
