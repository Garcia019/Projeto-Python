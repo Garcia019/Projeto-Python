{
 "cells": [
  {
   "cell_type": "markdown",
   "id": "cef78eae-69c2-4f2a-9ac1-f5e4eee5f2a7",
   "metadata": {},
   "source": [
    "## Dicionário #02\n",
    "\n",
    "***S05 A55***\n",
    "\n",
    "Manipulacão de dicionario incluindo dados entre outros metodos, aprofundando conhecimento no dicionario."
   ]
  },
  {
   "cell_type": "code",
   "execution_count": 10,
   "id": "ff25d7ed-d277-486e-8016-f3d1ba06f265",
   "metadata": {},
   "outputs": [
    {
     "data": {
      "text/plain": [
       "{}"
      ]
     },
     "execution_count": 10,
     "metadata": {},
     "output_type": "execute_result"
    }
   ],
   "source": [
    "pessoa = {\"nome\": \"Prof. Alberto\", \"idade\": 43, \"cursos\": [\"React\", \"Python\"]}\n",
    "pessoa[\"idade\"] = 44\n",
    "pessoa[\"cursos\"].append(\"Angular\")\n",
    "pessoa\n",
    "pessoa.pop(\"idade\") # le o valor e retira do dicionario\n",
    "\n",
    "pessoa\n",
    "pessoa.update({\"idade\": 40, \"sexo\": \"M\"}) # atualiza alguns valores ao dicionario\n",
    "pessoa\n",
    "del pessoa[\"cursos\"] # apaga a chave e seu valor escolhido conforme o exemplo\n",
    "pessoa\n",
    "pessoa.clear() # apaga todo dicionário e seu conteudo sobrando apenas um dicionario vazio\n",
    "pessoa"
   ]
  }
 ],
 "metadata": {
  "kernelspec": {
   "display_name": "Python 3 (ipykernel)",
   "language": "python",
   "name": "python3"
  },
  "language_info": {
   "codemirror_mode": {
    "name": "ipython",
    "version": 3
   },
   "file_extension": ".py",
   "mimetype": "text/x-python",
   "name": "python",
   "nbconvert_exporter": "python",
   "pygments_lexer": "ipython3",
   "version": "3.11.2"
  }
 },
 "nbformat": 4,
 "nbformat_minor": 5
}
