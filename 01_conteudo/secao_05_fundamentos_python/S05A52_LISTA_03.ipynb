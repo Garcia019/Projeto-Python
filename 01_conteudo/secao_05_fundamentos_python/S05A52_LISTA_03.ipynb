{
 "cells": [
  {
   "cell_type": "markdown",
   "id": "763a0864-a10b-4c26-8743-a5698907a1c6",
   "metadata": {},
   "source": [
    "## Lista #03\n",
    "\n",
    "***S05 A52***\n",
    "\n",
    "Demonstrando o acesso a elementos dentro da Lista, crian do sub-lista com intervalo de uma lista original"
   ]
  },
  {
   "cell_type": "code",
   "execution_count": 10,
   "id": "02806e6e-c292-432e-8779-fd372086431f",
   "metadata": {},
   "outputs": [
    {
     "data": {
      "text/plain": [
       "['Ana']"
      ]
     },
     "execution_count": 10,
     "metadata": {},
     "output_type": "execute_result"
    }
   ],
   "source": [
    "lista = [\"Ana\", \"Lia\", \"Rui\", \"Paulo\", \"Dani\"]\n",
    "lista[1:3] # a sublista inicia no elemento de indice (1) incluindo ele e até o elemento de indice (3) excluíndo ele\n",
    "lista [1:-1] # a sublista inicia no elemento de indice (1) incluindo ele e até o elemento de indice (-1) excluíndo ele\n",
    "lista[1:] #  a sub-lista inicia com o elemento de indice(1) e vaiaté o final dela incluindo toda ela\n",
    "lista[:-1] # acessa todos os itens da lista excluíndo o último número\n",
    "lista[:] # acessa lista do comeco ao final\n",
    "lista[::2] # acessa a lista inteira de 1 e 2\n",
    "lista[::-1] # inverte a lista como na string porem e mais intuitivo usar o método\n",
    "del lista[2] # exclui da lista o item com indice 2\n",
    "lista\n",
    "del lista[1:] # exclui da lista todos os itens aportir do indice 1 permanecendo só o item do indice 0\n",
    "lista"
   ]
  },
  {
   "cell_type": "code",
   "execution_count": null,
   "id": "dda754fb-325d-44a4-9915-444879b79532",
   "metadata": {},
   "outputs": [],
   "source": []
  }
 ],
 "metadata": {
  "kernelspec": {
   "display_name": "Python 3 (ipykernel)",
   "language": "python",
   "name": "python3"
  },
  "language_info": {
   "codemirror_mode": {
    "name": "ipython",
    "version": 3
   },
   "file_extension": ".py",
   "mimetype": "text/x-python",
   "name": "python",
   "nbconvert_exporter": "python",
   "pygments_lexer": "ipython3",
   "version": "3.11.2"
  }
 },
 "nbformat": 4,
 "nbformat_minor": 5
}
