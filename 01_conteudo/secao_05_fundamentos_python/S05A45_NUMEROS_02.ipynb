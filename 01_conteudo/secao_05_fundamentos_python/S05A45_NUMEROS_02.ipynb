{
 "cells": [
  {
   "cell_type": "markdown",
   "id": "ee4f3452-3c9d-4e51-a9cd-f584d44042be",
   "metadata": {},
   "source": [
    "## Números #02\n",
    "\n",
    "***S5 A45***\n",
    "\n",
    "Continuação sobre números e características dos tipos em python, exemplos aplicáveis que tem resultados diferentes do comum,\n"
   ]
  },
  {
   "cell_type": "code",
   "execution_count": 11,
   "id": "4257f803-7b25-4352-83f4-70fd0ae214d9",
   "metadata": {},
   "outputs": [
    {
     "name": "stdout",
     "output_type": "stream",
     "text": [
      "3.3000000000000003\n"
     ]
    },
    {
     "data": {
      "text/plain": [
       "Decimal('3.300000000')"
      ]
     },
     "execution_count": 11,
     "metadata": {},
     "output_type": "execute_result"
    }
   ],
   "source": [
    "#1.1 + 2.2 - Resultado 3.3000000000000003\n",
    "\n",
    "#Isso acontece pois eles usam a especificações, no caso um documento que diz como a linguagem faz a interpretação interna da operação,\n",
    "#Essa especificação preza pela velocidade mas talvenha tenha problemas com precisão como o informado\n",
    "\n",
    "from decimal import Decimal, getcontext\n",
    "Decimal(1) / Decimal (7)\n",
    "\n",
    "getcontext().prec = 4\n",
    "Decimal(1) / Decimal (7)\n",
    "Decimal.max(Decimal(1), Decimal(7))\n",
    "dir(Decimal)\n",
    "\n",
    "getcontext().prec = 10\n",
    "Decimal(1.1) + Decimal(2.2)\n",
    "\n",
    "#Utilizando a funcão Decimal importando a mesma para o ambiente global do módulo decimal conseguimos seguir com as especificações dos valores em precisão de resposta\n",
    "#Além de considerar uma forma de resolução mais precisa durante a solução do problema matemático"
   ]
  },
  {
   "cell_type": "code",
   "execution_count": null,
   "id": "273d23b6-d29f-4b65-8318-ba1380eb3839",
   "metadata": {},
   "outputs": [],
   "source": []
  }
 ],
 "metadata": {
  "kernelspec": {
   "display_name": "Python 3 (ipykernel)",
   "language": "python",
   "name": "python3"
  },
  "language_info": {
   "codemirror_mode": {
    "name": "ipython",
    "version": 3
   },
   "file_extension": ".py",
   "mimetype": "text/x-python",
   "name": "python",
   "nbconvert_exporter": "python",
   "pygments_lexer": "ipython3",
   "version": "3.11.2"
  }
 },
 "nbformat": 4,
 "nbformat_minor": 5
}
