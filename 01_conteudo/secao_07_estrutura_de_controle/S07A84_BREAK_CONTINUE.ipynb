{
 "cells": [
  {
   "cell_type": "markdown",
   "id": "56260eac-e96f-48c6-be62-4f33e251b04a",
   "metadata": {},
   "source": [
    "## Break/Continue\n",
    "\n",
    "***S07 A84***\n",
    "\n",
    "Dando continuidade nos estudos dos laços de repetição, vamos utilizar as funcionalidade Break/Continue no FOR e Break mas vamos aplicar eles ao FOR nesses exemplos"
   ]
  },
  {
   "cell_type": "code",
   "execution_count": 4,
   "id": "215237d6-a7af-40e1-a30c-9a8974cef8ab",
   "metadata": {},
   "outputs": [
    {
     "name": "stdout",
     "output_type": "stream",
     "text": [
      "Número: 1\n",
      "Número: 3\n",
      "Número: 5\n",
      "Número: 7\n",
      "Número: 9\n",
      "Número: 1\n",
      "Número: 2\n",
      "Número: 3\n",
      "Número: 4\n"
     ]
    }
   ],
   "source": [
    "# Exemplos de Uso\n",
    "\n",
    "for x in range(1, 11):\n",
    "    if x % 2 == 0: # Significa com essa afirmação que o número é par quando a divisao por dois tem resto 0\n",
    "        continue # O continue tem a função de inteprromper aquela iteração (repetição e vai para a próxima interação), relacionado diretamente ao FOR\n",
    "        # Como estrutura de repetição e não ao seu bloco if, interrope aquela repetição\n",
    "    print(f\"Número: {x}\") # Nesse caso apenas números ímpares serão impressos\n",
    "\n",
    "for x in range(1, 11):\n",
    "    if x == 5:\n",
    "        break #break interrompe agressivamente a estrutura de repetição nesse caso quando a condição proposta no if for executada, quando x for 5\n",
    "    print(f\"Número: {x}\")"
   ]
  }
 ],
 "metadata": {
  "kernelspec": {
   "display_name": "Python 3 (ipykernel)",
   "language": "python",
   "name": "python3"
  },
  "language_info": {
   "codemirror_mode": {
    "name": "ipython",
    "version": 3
   },
   "file_extension": ".py",
   "mimetype": "text/x-python",
   "name": "python",
   "nbconvert_exporter": "python",
   "pygments_lexer": "ipython3",
   "version": "3.11.2"
  }
 },
 "nbformat": 4,
 "nbformat_minor": 5
}
