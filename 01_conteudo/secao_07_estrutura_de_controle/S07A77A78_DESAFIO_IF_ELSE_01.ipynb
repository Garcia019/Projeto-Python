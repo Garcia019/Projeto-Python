{
 "cells": [
  {
   "cell_type": "markdown",
   "id": "39a01c8b-f412-4d83-b2d5-3ff3f1dd512c",
   "metadata": {},
   "source": [
    "## Desafio IF ELSE #01\n",
    "***S07 A77 e A78***\n",
    "\n",
    "Secão 7 inicia o estudo sobre as estruturas de controle essa secao tem como objetivo explicar de forma bem compassada estrutura de controle iniciando do básico, iniciamos com um desafio de criar uma função com nota e conceito, parametro de entrada uma nota de 0,0 10,0 e deve-se retornar um conceito de nota como, A+, A-, B+, B- entre outras.\n",
    "\n",
    "Nota: como o exercício proposto foi utilizando o modulo sys e ele não é possivel utilizar no jupyter criei um arquivo na pasta de exercícios escrito como ***s07a77_desafio_if_else_01.py*** que faz exatamente o que o arquivo descrito aqui faz."
   ]
  },
  {
   "cell_type": "code",
   "execution_count": 1,
   "id": "3cdb80b4-5947-487e-af11-0cac12c26700",
   "metadata": {},
   "outputs": [
    {
     "name": "stdout",
     "output_type": "stream",
     "text": [
      "A nota precisa ser passada em um valor numérico!\n"
     ]
    },
    {
     "ename": "SystemExit",
     "evalue": "",
     "output_type": "error",
     "traceback": [
      "An exception has occurred, use %tb to see the full traceback.\n",
      "\u001b[31mSystemExit\u001b[39m\n"
     ]
    },
    {
     "name": "stderr",
     "output_type": "stream",
     "text": [
      "C:\\Users\\mathe\\AppData\\Local\\Programs\\Python\\Python311\\Lib\\site-packages\\IPython\\core\\interactiveshell.py:3675: UserWarning: To exit: use 'exit', 'quit', or Ctrl-D.\n",
      "  warn(\"To exit: use 'exit', 'quit', or Ctrl-D.\", stacklevel=1)\n"
     ]
    }
   ],
   "source": [
    "# Conceitos Notas\n",
    "# A         De 10.0 à 9.1\n",
    "# A-        De 9,0 à 8.1\n",
    "# B         De 8.0 à 7.1\n",
    "# B-        De 7.0 à 6.1\n",
    "# C         De 6.0 à 5.1\n",
    "# C-        De 5.0 à 4.1\n",
    "# D         De 4.0 à 3.1\n",
    "# D-        De 3.0 à 2.1\n",
    "# E         De 2.0 à 1.1\n",
    "# E-        De 1.0 à 0.0\n",
    "\n",
    "# Para notas maiores que 10 e menores que 0 será impresso \"Nota Inválida\"\n",
    "import sys\n",
    "\n",
    "\n",
    "def help():\n",
    "    if len(sys.argv) < 2:\n",
    "        print(\"É Necessário informar a nota!\")\n",
    "        print(f\"Sintaxe: {sys.argv[0]} <nota>\")\n",
    "        sys.exit()\n",
    "    if not sys.argv[1].isnumeric():\n",
    "        print(\"A nota precisa ser passada em um valor numérico!\")\n",
    "        sys.exit()\n",
    "\n",
    "\n",
    "def conceito_nota(nota):\n",
    "    if nota >= 9.1 and nota <= 10.0:\n",
    "        print(\"Sua nota conceito é 'A'!\")\n",
    "    elif nota >= 8.1 and nota < 9.1:\n",
    "        print(\"Sua nota conceito é 'A-'!\")\n",
    "    elif nota >= 7.1 and nota < 8.1:\n",
    "        print(\"Sua nota conceito é 'B'!\")\n",
    "    elif nota >= 6.1 and nota < 7.1:\n",
    "        print(\"Sua nota conceito é 'B-'!\")\n",
    "    elif nota >= 5.1 and nota < 6.1:\n",
    "        print(\"Sua nota conceito é 'C'!\")\n",
    "    elif nota >= 4.1 and nota < 5.1:\n",
    "        print(\"Sua nota conceito é 'C-'!\")\n",
    "    elif nota >= 3.1 and nota < 4.1:\n",
    "        print(\"Sua nota conceito é 'D'!\")\n",
    "    elif nota >= 2.1 and nota < 3.1:\n",
    "        print(\"Sua nota conceito é 'D-'!\")\n",
    "    elif nota >= 1.1 and nota < 2.1:\n",
    "        print(\"Sua nota conceito é 'E'!\")\n",
    "    elif nota >= 0.0 and nota < 1.1:\n",
    "        print(\"Sua nota conceito é 'E-'!\")\n",
    "    else:\n",
    "        print(\"Nota Inválida!\")\n",
    "        print(\"Nota maior que 10.0 ou menor que 0.0!\")\n",
    "\n",
    "\n",
    "if __name__ == \"__main__\":\n",
    "    help()\n",
    "    conceito_nota(float(sys.argv[1]))\n"
   ]
  }
 ],
 "metadata": {
  "kernelspec": {
   "display_name": "Python 3 (ipykernel)",
   "language": "python",
   "name": "python3"
  },
  "language_info": {
   "codemirror_mode": {
    "name": "ipython",
    "version": 3
   },
   "file_extension": ".py",
   "mimetype": "text/x-python",
   "name": "python",
   "nbconvert_exporter": "python",
   "pygments_lexer": "ipython3",
   "version": "3.11.2"
  }
 },
 "nbformat": 4,
 "nbformat_minor": 5
}
