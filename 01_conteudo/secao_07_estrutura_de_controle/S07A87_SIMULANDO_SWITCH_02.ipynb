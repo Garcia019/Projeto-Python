{
 "cells": [
  {
   "cell_type": "markdown",
   "id": "36a2775f-f34a-4f73-b693-d927530067bd",
   "metadata": {},
   "source": [
    "## Simulando Switch #02\n",
    "***S07 A87***\n",
    "\n",
    "Nesa aula foi proposto um desafio de realizar criar um função que retorne de qual parte da semana o dia pertence dia útel ou final de semana,"
   ]
  },
  {
   "cell_type": "code",
   "execution_count": 11,
   "id": "2276cd4c-ce4f-4ea7-961b-f82b5e5ddf4c",
   "metadata": {},
   "outputs": [
    {
     "name": "stdout",
     "output_type": "stream",
     "text": [
      "0 é Dia Inválido e pertence ao Grupo inválido!\n",
      "1 é Domingo e pertence ao Final de Semana!\n",
      "2 é Segunda e pertence ao Dias úteis!\n",
      "3 é Terça e pertence ao Dias úteis!\n",
      "4 é Quarta e pertence ao Dias úteis!\n",
      "5 é Quinta e pertence ao Dias úteis!\n",
      "6 é Sexta e pertence ao Dias úteis!\n",
      "7 é Sábado e pertence ao Final de Semana!\n",
      "8 é Dia Inválido e pertence ao Grupo inválido!\n"
     ]
    }
   ],
   "source": [
    "# Desafio Função Grupo Dia da Semana\n",
    "\n",
    "def grupo_semana(dia):\n",
    "    grupo_semana = {\n",
    "        1 : \"Final de Semana\",\n",
    "        2 : \"Dias úteis\",\n",
    "        3 : \"Dias úteis\",\n",
    "        4 : \"Dias úteis\",\n",
    "        5 : \"Dias úteis\",\n",
    "        6 : \"Dias úteis\",\n",
    "        7 : \"Final de Semana\"\n",
    "    }\n",
    "    return grupo_semana.get(dia, \"Grupo inválido\")\n",
    "\n",
    "\n",
    "def get_dia_semana(dia):\n",
    "    dias = {\n",
    "        1: \"Domingo\",\n",
    "        2: \"Segunda\",\n",
    "        3: \"Terça\",\n",
    "        4: \"Quarta\",\n",
    "        5: \"Quinta\",\n",
    "        6: \"Sexta\",\n",
    "        7: \"Sábado\"\n",
    "    }\n",
    "    return dias.get(dia, \"Dia Inválido\")\n",
    "\n",
    "    \n",
    "if __name__ == \"__main__\":\n",
    "    for dia in range(0, 9):\n",
    "        print(f\"{dia} é {get_dia_semana(dia)} e pertence ao {grupo_semana(dia)}!\")"
   ]
  }
 ],
 "metadata": {
  "kernelspec": {
   "display_name": "Python 3 (ipykernel)",
   "language": "python",
   "name": "python3"
  },
  "language_info": {
   "codemirror_mode": {
    "name": "ipython",
    "version": 3
   },
   "file_extension": ".py",
   "mimetype": "text/x-python",
   "name": "python",
   "nbconvert_exporter": "python",
   "pygments_lexer": "ipython3",
   "version": "3.11.2"
  }
 },
 "nbformat": 4,
 "nbformat_minor": 5
}
