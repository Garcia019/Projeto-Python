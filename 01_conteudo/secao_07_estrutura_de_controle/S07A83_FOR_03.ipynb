{
 "cells": [
  {
   "cell_type": "markdown",
   "id": "bc7fa838-d5c7-46be-8a45-f74cb18d1bdf",
   "metadata": {},
   "source": [
    "## FOR #03\n",
    "***S07 A83***\n",
    "\n",
    "Na terceira aula de FOR vamos mostrar um caso que pode ser realizado de várias formas que é utilizar o for para percorrer um dicionário, existem pelo menos 3 formas, a partir da chave, valor e chave/valor ao mesmo tempo.\n",
    "\n",
    "Após ao laço as variaveis criadas no for ficam disponiveis como suas ultimas atualizações mesmo apos sair do for, porem depende do tipo de ambiente como dentro de uma função é diferente entre outros aspectos, depende de onde essas varáveis foram declaradas"
   ]
  },
  {
   "cell_type": "code",
   "execution_count": 9,
   "id": "214b2a7e-961f-47fe-87f8-b2043ac3b103",
   "metadata": {},
   "outputs": [
    {
     "name": "stdout",
     "output_type": "stream",
     "text": [
      "nome\n",
      "preco\n",
      "importada\n",
      "estoque\n",
      "Caneta Chic\n",
      "14.99\n",
      "True\n",
      "793\n",
      "nome = Caneta Chic\n",
      "preco = 14.99\n",
      "importada = True\n",
      "estoque = 793\n"
     ]
    }
   ],
   "source": [
    "# Exemplos de Dicionário Percorrido por um FOR\n",
    "\n",
    "produto = {\"nome\": \"Caneta Chic\", \"preco\" : 14.99,\n",
    "           \"importada\": True, \"estoque\": 793}\n",
    "\n",
    "for chave in produto: # for por padrao percorre o dicionário através das chaves dentro do dicionário, pode utilizar também produto.keys()\n",
    "    print(chave)\n",
    "\n",
    "\n",
    "for valor in produto.values(): # quando utilizado a funcionalidade .values() percorre-se os valores de cada chave no dicionário\n",
    "    print(valor)\n",
    "\n",
    "for chave, valor in produto.items(): # para percorrer os dois parametros do dicionarios utilizando a funcionalidade .items() com a ordem chave, valor\n",
    "    print(f\"{chave} = {valor}\")\n"
   ]
  }
 ],
 "metadata": {
  "kernelspec": {
   "display_name": "Python 3 (ipykernel)",
   "language": "python",
   "name": "python3"
  },
  "language_info": {
   "codemirror_mode": {
    "name": "ipython",
    "version": 3
   },
   "file_extension": ".py",
   "mimetype": "text/x-python",
   "name": "python",
   "nbconvert_exporter": "python",
   "pygments_lexer": "ipython3",
   "version": "3.11.2"
  }
 },
 "nbformat": 4,
 "nbformat_minor": 5
}
