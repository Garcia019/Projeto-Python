{
 "cells": [
  {
   "cell_type": "markdown",
   "id": "aa4d1ee6-3de0-4e7d-a079-958a3b429792",
   "metadata": {},
   "source": [
    "## Simulando SWITCH #01\n",
    "***S07 A86***\n",
    "\n",
    "Nessa aula foi apresentado o SWITCH uma funcionalidade de algumas linguagens para otimizar a selecao de certas variaveis e seus respecitivos resultados, um estrutura de multipla escolha no caso muito similar ao uso do if porem com caracteristicas proximas vamos nessa aula simular o uso do switch no python utilizando outros recursos como nesse exemplo dicionário e função"
   ]
  },
  {
   "cell_type": "code",
   "execution_count": 9,
   "id": "c95de37c-62e1-4822-abbb-bae3af9aa221",
   "metadata": {},
   "outputs": [
    {
     "name": "stdout",
     "output_type": "stream",
     "text": [
      "0 : Dia Inválido\n",
      "1 : Domingo\n",
      "2 : Segunda\n",
      "3 : Terça\n",
      "4 : Quarta\n",
      "5 : Quinta\n",
      "6 : Sexta\n",
      "7 : Sábado\n",
      "8 : Dia Inválido\n"
     ]
    }
   ],
   "source": [
    "# Simualando Switch no Python\n",
    "\n",
    "def get_dia_semana(dia):\n",
    "    dias = {\n",
    "        1: \"Domingo\",\n",
    "        2: \"Segunda\",\n",
    "        3: \"Terça\",\n",
    "        4: \"Quarta\",\n",
    "        5: \"Quinta\",\n",
    "        6: \"Sexta\",\n",
    "        7: \"Sábado\"\n",
    "    }\n",
    "    return dias.get(dia, \"Dia Inválido\") # função que extrai o valor do ddicionário quando passa a chave como parametro e retorna o valor ou parametro 2\n",
    "\n",
    "if __name__ == \"__main__\":\n",
    "    for dia in range(0, 9):\n",
    "        print(f\"{dia} : {get_dia_semana(dia)}\")\n"
   ]
  },
  {
   "cell_type": "code",
   "execution_count": null,
   "id": "0fc65f99-344b-4d13-a914-fc9f44f6cebb",
   "metadata": {},
   "outputs": [],
   "source": []
  }
 ],
 "metadata": {
  "kernelspec": {
   "display_name": "Python 3 (ipykernel)",
   "language": "python",
   "name": "python3"
  },
  "language_info": {
   "codemirror_mode": {
    "name": "ipython",
    "version": 3
   },
   "file_extension": ".py",
   "mimetype": "text/x-python",
   "name": "python",
   "nbconvert_exporter": "python",
   "pygments_lexer": "ipython3",
   "version": "3.11.2"
  }
 },
 "nbformat": 4,
 "nbformat_minor": 5
}
