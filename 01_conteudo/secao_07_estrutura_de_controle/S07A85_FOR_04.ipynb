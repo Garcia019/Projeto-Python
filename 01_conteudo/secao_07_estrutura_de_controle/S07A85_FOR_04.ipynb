{
 "cells": [
  {
   "cell_type": "markdown",
   "id": "61486d32-0c69-4215-a18d-7cbec3bb23e0",
   "metadata": {},
   "source": [
    "## FOR #04\n",
    "***S07 A85***\n",
    "\n",
    "Nessa aula vamos realizar o 4 exemplo do for utilizando o else, com isso realizando alguns exemplos"
   ]
  },
  {
   "cell_type": "code",
   "execution_count": 32,
   "id": "49b0f836-3c6e-44b4-beed-b0888806123b",
   "metadata": {},
   "outputs": [
    {
     "name": "stdout",
     "output_type": "stream",
     "text": [
      "Acertou, o valor do dado era 2!\n"
     ]
    }
   ],
   "source": [
    "# Exemplos FOR com ELSE\n",
    "from random import randint\n",
    "\n",
    "\"\"\"\n",
    "for i in range(1, 11):\n",
    "    print(i)\n",
    "else: # Else associado ao for foi executado corretamente logo após a execução de todas as repeticões determinadas\n",
    "    print(\"Fim!\")\n",
    "\n",
    "for i in range(1, 11):\n",
    "    if i == 6:\n",
    "        break # Utilizando o break em uma das repetições paramos a execução das repetições imediatamente e impedimos o else de executar\n",
    "    print(i)\n",
    "else: # Else associado ao for não foi executado corretamente pois tivemos uma parada abrupta no for utilizando o break\n",
    "    print(\"Fim!\")\n",
    "\"\"\"\n",
    "\n",
    "# Desafio Dado Sorteia entre 1 e 6 Números\n",
    "\n",
    "def dado():\n",
    "    dado = randint(1,6)\n",
    "    return dado\n",
    "\n",
    "valor_dado = dado()\n",
    "\n",
    "for numero in range(1,7):\n",
    "    if numero % 2 != 0:\n",
    "        continue\n",
    "    elif numero == valor_dado:\n",
    "        print(f\"Acertou, o valor do dado era {valor_dado}!\")\n",
    "        break\n",
    "else:\n",
    "    print(f\"Não acertou, o valor do dado era {valor_dado}!\")"
   ]
  }
 ],
 "metadata": {
  "kernelspec": {
   "display_name": "Python 3 (ipykernel)",
   "language": "python",
   "name": "python3"
  },
  "language_info": {
   "codemirror_mode": {
    "name": "ipython",
    "version": 3
   },
   "file_extension": ".py",
   "mimetype": "text/x-python",
   "name": "python",
   "nbconvert_exporter": "python",
   "pygments_lexer": "ipython3",
   "version": "3.11.2"
  }
 },
 "nbformat": 4,
 "nbformat_minor": 5
}
