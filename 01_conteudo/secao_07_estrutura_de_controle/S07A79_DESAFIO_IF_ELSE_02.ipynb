{
 "cells": [
  {
   "cell_type": "markdown",
   "id": "120d1100-d50a-4ee9-ae42-14bd9817a5cc",
   "metadata": {},
   "source": [
    "## Desafio IF Else #02\n",
    "\n",
    "***S07 A79***\n",
    "\n",
    "Dando continuidade nessa aula ao aprendizado as estruturas de controle, agora vamos com mais um exemplo aplicável em relacão a estrutura de controle, com isso foi criado um desafio chamado faixa etária."
   ]
  },
  {
   "cell_type": "code",
   "execution_count": 1,
   "id": "d3ae61d2-7a9f-4e41-acfb-2a4f729f87a8",
   "metadata": {},
   "outputs": [
    {
     "name": "stdout",
     "output_type": "stream",
     "text": [
      "17: Menor de idade!\n",
      "35: Adulto!\n",
      "87: Idoso!\n",
      "113: Centenária!\n",
      "-2: Idade inválida!\n",
      "64: Adulto!\n"
     ]
    }
   ],
   "source": [
    "# Definir a faixa etária do individuo com base na idade\n",
    "\n",
    "def faixa_etaria(idade):\n",
    "    if 0 <= idade < 18:\n",
    "        return \"Menor de idade\"\n",
    "    elif idade in range(18, 65):\n",
    "        return \"Adulto\"\n",
    "    elif idade in range(65, 100):\n",
    "        return \"Idoso\"\n",
    "    elif idade >= 100:\n",
    "        return \"Centenária\"\n",
    "    else:\n",
    "        return \"Idade inválida\"\n",
    "\n",
    "\n",
    "if __name__ == \"__main__\":\n",
    "    for idade in (17, 35, 87, 113, -2, 64):\n",
    "        print(f\"{idade}: {faixa_etaria(idade)}!\")\n"
   ]
  }
 ],
 "metadata": {
  "kernelspec": {
   "display_name": "Python 3 (ipykernel)",
   "language": "python",
   "name": "python3"
  },
  "language_info": {
   "codemirror_mode": {
    "name": "ipython",
    "version": 3
   },
   "file_extension": ".py",
   "mimetype": "text/x-python",
   "name": "python",
   "nbconvert_exporter": "python",
   "pygments_lexer": "ipython3",
   "version": "3.11.2"
  }
 },
 "nbformat": 4,
 "nbformat_minor": 5
}
