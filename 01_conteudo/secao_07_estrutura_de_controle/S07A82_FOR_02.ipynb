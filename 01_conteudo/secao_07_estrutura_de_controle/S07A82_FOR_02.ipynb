{
 "cells": [
  {
   "cell_type": "markdown",
   "id": "9abb9747-7a9d-44e2-b619-804c536d592c",
   "metadata": {},
   "source": [
    "## FOR #02\n",
    "***S07A82***\n",
    "\n",
    "Dando continuidade ao exemplos de FOR em python considerando a múltipla forma de usar o for em python,"
   ]
  },
  {
   "cell_type": "code",
   "execution_count": 12,
   "id": "2ef802be-ce4f-4e11-874c-3b6e8aaedc71",
   "metadata": {},
   "outputs": [
    {
     "name": "stdout",
     "output_type": "stream",
     "text": [
      "p, a, r, a, l, e, l, e, p, í, p, e, d, o, Fim\n",
      "Rafaela\n",
      "Pedro\n",
      "Renato\n",
      "Maria\n",
      "1º Rafaela\n",
      "2º Pedro\n",
      "3º Renato\n",
      "4º Maria\n",
      "Hoje é Domingo\n",
      "Hoje é Segunda\n",
      "Hoje é Terça\n",
      "Hoje é Quarta\n",
      "Hoje é Quinta\n",
      "Hoje é Sexta\n",
      "Hoje é Sábado\n",
      "m\n",
      "u\n",
      "i\n",
      "e\n",
      "g\n",
      " \n",
      "l\n",
      "a\n",
      "t\n",
      "o\n"
     ]
    }
   ],
   "source": [
    "# Exemplo 1, usar o for para percorrer uma string\n",
    "\n",
    "palavra = \"paralelepípedo\"\n",
    "\n",
    "for letra in palavra: # Percorre por todos os caracteres de uma string\n",
    "    print(letra, end=\", \") # determina que o final de cada print será definido não mais pelo padrão ENTER(\\n)+ e sim pelo caractere que você definir\n",
    "print(\"Fim\") # Efeito colatera, o próximo print que vem após o útlimo print com definicao de final vira na mesma linha, porem ñ os próximos após esse\n",
    "\n",
    "\n",
    "aprovados = [\"Rafaela\", \"Pedro\", \"Renato\", \"Maria\"]\n",
    "for nome in aprovados: # Percorre todos os itens de uma lista\n",
    "    print(nome)\n",
    "\n",
    "for posicao, nome in enumerate(aprovados): #Consegue atraves do enumerate estrair a posicao e o item da lista no mesmo for\n",
    "    print(f\"{posicao + 1}º\", nome)\n",
    "\n",
    "dias_semana = (\"Domingo\", \"Segunda\", \"Terça\",\n",
    "               \"Quarta\", \"Quinta\", \"Sexta\", \"Sábado\")\n",
    "\n",
    "for dia in dias_semana:\n",
    "    print(f\"Hoje é {dia}\")\n",
    "\n",
    "for letra in set(\"muito legal\"): # não garantia de organização em um SET(conjunto) então a ordem de impressão pode ser a mais aletória possível\n",
    "    print(letra)"
   ]
  },
  {
   "cell_type": "code",
   "execution_count": null,
   "id": "d6e505c1-a06b-4fec-a143-3e7197c3dc95",
   "metadata": {},
   "outputs": [],
   "source": []
  }
 ],
 "metadata": {
  "kernelspec": {
   "display_name": "Python 3 (ipykernel)",
   "language": "python",
   "name": "python3"
  },
  "language_info": {
   "codemirror_mode": {
    "name": "ipython",
    "version": 3
   },
   "file_extension": ".py",
   "mimetype": "text/x-python",
   "name": "python",
   "nbconvert_exporter": "python",
   "pygments_lexer": "ipython3",
   "version": "3.11.2"
  }
 },
 "nbformat": 4,
 "nbformat_minor": 5
}
