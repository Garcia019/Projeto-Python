{
 "cells": [
  {
   "cell_type": "markdown",
   "id": "253620f2-367c-4202-ba5a-86525ee1dab6",
   "metadata": {},
   "source": [
    "## WHILE #01\n",
    "***S07 A80***\n",
    "\n",
    "Vamos iniciar nessa aula os exemplos de laços de repetição, vamos aplicar o fundamento de bloco e explicar a utilização das estruturas de repetição, no caso do while estudo hoje ele determina a repeticao de um codigo especifico relacionado a seu bloco até que a condição determinada seja falsa, se a condição não foi falsa em nenhum momento a repetição continua, while significa enquanto, no caso enquanto algo estiver acontecendo o bloco continua a execução.\n",
    "\n"
   ]
  },
  {
   "cell_type": "code",
   "execution_count": 6,
   "id": "c6cfcdd4-ab05-4e69-b437-c27ad459a97c",
   "metadata": {},
   "outputs": [
    {
     "name": "stdin",
     "output_type": "stream",
     "text": [
      "Informe o número: 1\n",
      "Informe o número: 2\n",
      "Informe o número: 3\n",
      "Informe o número: 4\n",
      "Informe o número: 5\n",
      "Informe o número: 6\n",
      "Informe o número: 7\n",
      "Informe o número: 8\n",
      "Informe o número: 9\n",
      "Informe o número: 0\n"
     ]
    },
    {
     "name": "stdout",
     "output_type": "stream",
     "text": [
      "Número secreto 0 foi encontrado!\n"
     ]
    }
   ],
   "source": [
    "# while True:\n",
    "#    print(\"Vai demorar muito\")\n",
    "\n",
    "from random import randint # importando uma função que será responsável por gerar um número aleatório inteiro entre um intervalo de nímeros definido\n",
    "\n",
    "numero_informado = -1\n",
    "numero_secreto = randint(0,9) #escolhe um número aletorio de 0 a 9 incluindo o 9 e o 0\n",
    "\n",
    "while numero_informado != numero_secreto:\n",
    "    numero_informado = int(input(\"Informe o número:\"))\n",
    "\n",
    "print(f\"Número secreto {numero_secreto} foi encontrado!\")\n"
   ]
  }
 ],
 "metadata": {
  "kernelspec": {
   "display_name": "Python 3 (ipykernel)",
   "language": "python",
   "name": "python3"
  },
  "language_info": {
   "codemirror_mode": {
    "name": "ipython",
    "version": 3
   },
   "file_extension": ".py",
   "mimetype": "text/x-python",
   "name": "python",
   "nbconvert_exporter": "python",
   "pygments_lexer": "ipython3",
   "version": "3.11.2"
  }
 },
 "nbformat": 4,
 "nbformat_minor": 5
}
