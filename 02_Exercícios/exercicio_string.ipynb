{
 "cells": [
  {
   "cell_type": "markdown",
   "id": "ca67ca6b-aa4c-4f36-b486-ce4811228e42",
   "metadata": {},
   "source": [
    "## Exercício para String (Tipo de Dado Primitivo)"
   ]
  },
  {
   "cell_type": "markdown",
   "id": "328a633a-aa32-4789-a1ea-355ad4dbf75c",
   "metadata": {},
   "source": [
    "01) O que é uma string? \n",
    "\n",
    "    String é uma tipo de dado bruto interpretado como python para determinar uma string.\n",
    "\n",
    "02) Quando tratamos string o que é concatenação?\n",
    "\n",
    "    Concatenaação no universo das string e unir duas ou mais string usando x + y.\n",
    "\n",
    "03) Quando tratamos String o que é Fatiamento? \n",
    "\n",
    "    Fatiamento é separar a string em pedaços e colocamos em uma lista usando x.split(), você define quem vai ser o separador no caso qual caractere vai ser e como padrão temos \" \"\n",
    "\n",
    "04) De que forma acessamos os caracteres de uma string? \n",
    "\n",
    "    Acessamos os caracterews de uma string utilizando indice do caractere com ele podemos mostrar qual é o caractere do indice que eu determinei durante a utilização do x[]\n",
    "\n",
    "05) Explique como funciona os seguinte métodos: count, replace, find, len? \n",
    "\n",
    "    count - x.count(\"a\") conta quantos caracteres \"a\" voce possui na string x\n",
    "    replace - x.replace(\"a\",\"b\") substitui todos os caracteres \"a\" por \"b\"\n",
    "    find - x.find(\"a\") retorna o primeiro indice encontrado da direita pra esquerda que tenha o caractere a\n",
    "    len - len(x) conta quantos caracteres totais possum na strin x\n",
    "\n",
    "06) Em string, para que serve o símbolo %?\n",
    "\n",
    "    Em Python, o símbolo % dentro de uma string é usado para realizar formatação de strings, substituindo espaços reservados (placeholders) por valores dinâmicos."
   ]
  },
  {
   "cell_type": "code",
   "execution_count": 8,
   "id": "da5b06a8-754e-402b-bd7c-01921cfe17b5",
   "metadata": {},
   "outputs": [
    {
     "name": "stdout",
     "output_type": "stream",
     "text": [
      "ufrj-macae\n"
     ]
    }
   ],
   "source": [
    "# 07) Indique a mensagem que aparecerá ao executar as seguintes instruções:\n",
    "\n",
    "str1 = \"ufrj\"\n",
    "str2 = \"macae\"\n",
    "print(str1 + \"-\" + str2)"
   ]
  },
  {
   "cell_type": "code",
   "execution_count": 11,
   "id": "4cd12f07-fa70-4b82-ae00-2f957d737344",
   "metadata": {},
   "outputs": [
    {
     "name": "stdout",
     "output_type": "stream",
     "text": [
      "rto M\n",
      "curto Macaé\n",
      "curto Mac\n"
     ]
    }
   ],
   "source": [
    "# 08)  Indique a mensagem que aparecerá ao executar as seguintes instruções: \n",
    "\n",
    "frase = \"Eu curto Macaé\"\n",
    "print(frase[5:10])\n",
    "print(frase[3:])\n",
    "print(frase[3:12])"
   ]
  },
  {
   "cell_type": "code",
   "execution_count": 13,
   "id": "1370c902-ff6b-49b9-b6a4-8baa3b87f18c",
   "metadata": {},
   "outputs": [
    {
     "data": {
      "text/plain": [
       "'Estava muuuuuito calor'"
      ]
     },
     "execution_count": 13,
     "metadata": {},
     "output_type": "execute_result"
    }
   ],
   "source": [
    "# 09) Indique a mensagem que aparecerá ao executar as seguintes instruções: \n",
    "\n",
    "frase = \"Está calor\"\n",
    "frase2 = frase[0:3] + \"ava m\" + \"u\" * 5 + \"ito\" + frase[4:]\n",
    "frase2"
   ]
  },
  {
   "cell_type": "code",
   "execution_count": 16,
   "id": "6bdc71a7-02b3-4aa4-be1b-ad0070208f77",
   "metadata": {},
   "outputs": [
    {
     "name": "stdout",
     "output_type": "stream",
     "text": [
      "2.5\n",
      "2.55000\n",
      "  2.5\n"
     ]
    }
   ],
   "source": [
    "# 10) Indique a mensagem que aparecerá ao executar as seguintes instruções:\n",
    "\n",
    "n = 2.55\n",
    "print(\"%.1f\" % n)\n",
    "print(\"%.5f\" % n)\n",
    "print(\"%5.1f\" % n)\n"
   ]
  },
  {
   "cell_type": "code",
   "execution_count": 19,
   "id": "929bc806-39cc-42c7-88cc-d61fec13cbbb",
   "metadata": {},
   "outputs": [
    {
     "name": "stdout",
     "output_type": "stream",
     "text": [
      "50\n",
      "7\n",
      "3\n",
      "48\n",
      "Rel*cion*mento é um* Engenh*ri*, só s*be quem Am*.\n"
     ]
    }
   ],
   "source": [
    "# 11) Indique a mensagem que aparecerá ao executar as seguintes instruções: \n",
    "\n",
    "frase = \"Relacionamento é uma Engenharia, só sabe quem Ama.\"\n",
    "print(len(frase))\n",
    "print(frase.count(\"a\"))\n",
    "print(frase.find(\"a\"))\n",
    "print(frase.rfind(\"a\")) # procura o caractere do lado inverso ao inicio da string ou seja de tras pra frente e retorno o primeiro indice que achar\n",
    "print(frase.replace(\"a\", \"*\"))"
   ]
  },
  {
   "cell_type": "code",
   "execution_count": 23,
   "id": "8e7433f9-8b9c-485c-921f-0b2401abda80",
   "metadata": {},
   "outputs": [
    {
     "name": "stdout",
     "output_type": "stream",
     "text": [
      "Minha casa é uma fortuna!\n"
     ]
    }
   ],
   "source": [
    "# 12) Escreva um programa que receba duas strings, verifique qual a maior (tem mais caracteres) e a imprima na tela.\n",
    "\n",
    "string1 = \"Minha casa é uma fortuna!\"\n",
    "string2 = \"Estou saindo de Macaé!\"\n",
    "\n",
    "if len(string1) > len(string2):\n",
    "    print(string1)\n",
    "else:\n",
    "    print(string2)"
   ]
  },
  {
   "cell_type": "code",
   "execution_count": 27,
   "id": "b38c6187-0059-4459-865e-d4e12f305c2a",
   "metadata": {},
   "outputs": [
    {
     "name": "stdout",
     "output_type": "stream",
     "text": [
      "universidade\n"
     ]
    }
   ],
   "source": [
    "# 13) Escreva um programa que receba uma string e imprima somente a primeira palavra, com todas  as  letras  minúsculas.  \n",
    "# Por  exemplo,  se  a  string  for  ‘Universidade  Federal  do  Rio  de Janeiro’, deverá ser impresso na tela a substring ‘universidade’. \n",
    "\n",
    "string = \"Universidade  Federal  do  Rio  de Janeiro\"\n",
    "\n",
    "indice_espaco = string.find(\" \")\n",
    "print(string[:(indice_espaco)].lower())"
   ]
  },
  {
   "cell_type": "code",
   "execution_count": 32,
   "id": "3292261a-817b-4d57-a872-eabc30f4a42b",
   "metadata": {},
   "outputs": [
    {
     "name": "stdout",
     "output_type": "stream",
     "text": [
      " A papa do Papa\n"
     ]
    }
   ],
   "source": [
    "\"\"\" 14) Uma  brincadeira  que  crianças  adoram  é  se  comunicar  na  língua  do  P,  acrescentando  pê antes de cada sílaba,\n",
    "como uma forma de código para dificultar que outras pessoas entendam a conversa (pê-va pê-mos pê-no pê-ci pê-ne pê-ma?).  \n",
    "Jacy e Kátia adaptaram a língua do P para mensagens  eletrônicas,  acrescentando  a  letra  P  minúscula  ‘p’  antes  de  \n",
    "cada  letra  das  palavras de uma mensagem. Sua tarefa é escrever um programa que decodifique uma mensagem escrita na língua \n",
    "do P eletrônica de Jacy e Kátia.  A entrada consiste de uma única linha, contendo uma mensagem  escrita  na  língua  do  P  \n",
    "eletrônica  de  Jacy  e  Kátia,  que  o  usuário  irá  digitar.  Seu programa  deve  produzir  uma  única  linha,  contendo  \n",
    "a  mensagem  decodificada.  Observe  os exemplos abaixo de como seu programa deve executar:\"\"\"\n",
    "\n",
    "string1 = \"pUpm pfpiplpmpe plpepgpapl\"\n",
    "string2 = \"pA pppapppa pdpo pPpapppa\"\n",
    "\n",
    "string_separada = string2.split(\" \")\n",
    "string_limpa = \"\"\n",
    "\n",
    "for palavra in string_separada:\n",
    "     string_limpa = string_limpa + \" \" + palavra[1::2]\n",
    "\n",
    "print(string_limpa)\n",
    "         \n",
    "\n",
    "    \n",
    "    "
   ]
  }
 ],
 "metadata": {
  "kernelspec": {
   "display_name": "Python 3 (ipykernel)",
   "language": "python",
   "name": "python3"
  },
  "language_info": {
   "codemirror_mode": {
    "name": "ipython",
    "version": 3
   },
   "file_extension": ".py",
   "mimetype": "text/x-python",
   "name": "python",
   "nbconvert_exporter": "python",
   "pygments_lexer": "ipython3",
   "version": "3.11.2"
  }
 },
 "nbformat": 4,
 "nbformat_minor": 5
}
