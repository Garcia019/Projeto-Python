{
 "cells": [
  {
   "cell_type": "markdown",
   "id": "85d4cce1-8108-4662-a986-56fb3d30b187",
   "metadata": {},
   "source": [
    "# 1. Desafio Matriz Rotacionada\n",
    "### Dada uma matriz quadrada (lista de listas) de inteiros, escreva uma função que rotacione a matriz 90° no sentido horário sem usar bibliotecas externas."
   ]
  },
  {
   "cell_type": "code",
   "execution_count": 39,
   "id": "2ec7adc4-a827-4da4-95be-5f419302ff8d",
   "metadata": {},
   "outputs": [
    {
     "name": "stdout",
     "output_type": "stream",
     "text": [
      "[[7, 4, 1], [8, 5, 2], [9, 6, 3]]\n"
     ]
    }
   ],
   "source": [
    "lista = [[1, 2, 3], [4, 5, 6], [7, 8, 9]]\n",
    "\n",
    "lista.reverse()\n",
    "lista_90 = []\n",
    "\n",
    "for indice, linha in enumerate(lista):\n",
    "    lista_linha = []\n",
    "    for linha in lista:\n",
    "        lista_linha.append(linha[0 + indice])\n",
    "    lista_90.append(lista_linha)\n",
    "    \n",
    "print(lista_90)\n",
    "    "
   ]
  }
 ],
 "metadata": {
  "kernelspec": {
   "display_name": "Python 3 (ipykernel)",
   "language": "python",
   "name": "python3"
  },
  "language_info": {
   "codemirror_mode": {
    "name": "ipython",
    "version": 3
   },
   "file_extension": ".py",
   "mimetype": "text/x-python",
   "name": "python",
   "nbconvert_exporter": "python",
   "pygments_lexer": "ipython3",
   "version": "3.11.2"
  }
 },
 "nbformat": 4,
 "nbformat_minor": 5
}
